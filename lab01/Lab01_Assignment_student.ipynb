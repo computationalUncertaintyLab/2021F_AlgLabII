{
 "cells": [
  {
   "cell_type": "markdown",
   "metadata": {},
   "source": [
    "## LAB01 Assignment\n",
    "\n",
    "This lab assignment will ask you to apply matrix algebra techniques you learned in class and techniques you learned in R.\n",
    "\n",
    "### A matrix/vector solution to the mean and to the standard deviation\n",
    " 1.  Use the function `rnorm` to draw 50 samples from a Normal distribution with mean 5 and standard deviation 2.\n",
    " 2.  Create your own function called `mymean` that computes the mean of a vector using matrix algebra. Your function should not involve the sum function. (A useful function will be the [ones](https://rdrr.io/cran/optimbase/man/ones.html) function)\n",
    " 3.  Create your own function called `mystd` that computed the standard deviation of a vector using matrix algebra. Your function should not involve the sum function or squaring (i.e. ^2).\n",
    " 4. Write a for loop that does the following 1,000 times: draws 500 samples from a Bernoulli distribution with probability equal to 0.2, computes the mean of this sample, and stores that empricial mean in a vector called `samplemeans`.\n",
    " 5. Use the `hist` function to draw a histogram of `samplemeans`. What distribution does this look like?"
   ]
  },
  {
   "cell_type": "code",
   "execution_count": null,
   "metadata": {},
   "outputs": [],
   "source": []
  }
 ],
 "metadata": {
  "kernelspec": {
   "display_name": "R",
   "language": "R",
   "name": "ir"
  },
  "language_info": {
   "codemirror_mode": "r",
   "file_extension": ".r",
   "mimetype": "text/x-r-source",
   "name": "R",
   "pygments_lexer": "r",
   "version": "4.0.5"
  }
 },
 "nbformat": 4,
 "nbformat_minor": 4
}
