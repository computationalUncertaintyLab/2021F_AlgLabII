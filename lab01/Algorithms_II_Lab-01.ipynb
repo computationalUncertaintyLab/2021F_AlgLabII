{
 "cells": [
  {
   "cell_type": "markdown",
   "metadata": {},
   "source": [
    "## LAB 01 : Matrices,  vectors, and beginning R for statistics"
   ]
  },
  {
   "cell_type": "markdown",
   "metadata": {},
   "source": [
    "### How to define a vector in R"
   ]
  },
  {
   "cell_type": "markdown",
   "metadata": {},
   "source": [
    "The R computing language shares many similarities to Python, however, we need to learn a slightly different syntax for defining objects in R.\n",
    "\n",
    "For example, in Python we defined a function called \"sum\" that took two objects a and b like this\n",
    "\n",
    "    def sum(a,b):\n",
    "        return a+b\n",
    "    \n",
    "In R you can also define a function, but how you define a function looks a bit different.    "
   ]
  },
  {
   "cell_type": "code",
   "execution_count": 3,
   "metadata": {},
   "outputs": [
    {
     "data": {
      "text/html": [
       "17"
      ],
      "text/latex": [
       "17"
      ],
      "text/markdown": [
       "17"
      ],
      "text/plain": [
       "[1] 17"
      ]
     },
     "metadata": {},
     "output_type": "display_data"
    }
   ],
   "source": [
    "sum = function(a,b){\n",
    "    return(a+b)\n",
    "}\n",
    "sum(8,9)"
   ]
  },
  {
   "cell_type": "markdown",
   "metadata": {},
   "source": [
    "Above, we create an object called \"sum\" that is assigned a function that takes as input two objects a,b. \n",
    "After a few weeks of work you will see that R and Python behave similarly, and by learning a R you will strengthen your understanding of both R and Python (really). "
   ]
  },
  {
   "cell_type": "markdown",
   "metadata": {},
   "source": [
    "### Vectors\n",
    "The vector is a fundemental object in R.\n",
    "We can define a vector $v$ like this "
   ]
  },
  {
   "cell_type": "code",
   "execution_count": 4,
   "metadata": {},
   "outputs": [],
   "source": [
    "v = c(1,2,3) # (the \"c\" stands for combine, as in, combine these numbers into a vector)"
   ]
  },
  {
   "cell_type": "markdown",
   "metadata": {},
   "source": [
    "This is a vector of length three containing the ordered numbers 1,2, and 3. \n",
    "This should remind you of the Python [list](https://www.w3schools.com/python/python_lists.asp).\n",
    "\n",
    "In R, you can acces the first element of a vector by referencign the name of the vector, square brackets, and the number 1."
   ]
  },
  {
   "cell_type": "code",
   "execution_count": 6,
   "metadata": {},
   "outputs": [
    {
     "data": {
      "text/html": [
       "1"
      ],
      "text/latex": [
       "1"
      ],
      "text/markdown": [
       "1"
      ],
      "text/plain": [
       "[1] 1"
      ]
     },
     "metadata": {},
     "output_type": "display_data"
    }
   ],
   "source": [
    "v[1]"
   ]
  },
  {
   "cell_type": "markdown",
   "metadata": {},
   "source": [
    "You can access the second element like this"
   ]
  },
  {
   "cell_type": "code",
   "execution_count": 9,
   "metadata": {},
   "outputs": [
    {
     "data": {
      "text/html": [
       "2"
      ],
      "text/latex": [
       "2"
      ],
      "text/markdown": [
       "2"
      ],
      "text/plain": [
       "[1] 2"
      ]
     },
     "metadata": {},
     "output_type": "display_data"
    }
   ],
   "source": [
    "v[2]"
   ]
  },
  {
   "cell_type": "markdown",
   "metadata": {},
   "source": [
    "The number $2$ is often called an **index**. "
   ]
  },
  {
   "cell_type": "markdown",
   "metadata": {},
   "source": [
    "In Python, we were able to locate items in a list by entering a positive number (forward indexing) or by entering a negative number (looking backward). \n",
    "Negative indices in R do **NOT** work the same. "
   ]
  },
  {
   "cell_type": "code",
   "execution_count": 13,
   "metadata": {},
   "outputs": [
    {
     "data": {
      "text/html": [
       "<style>\n",
       ".list-inline {list-style: none; margin:0; padding: 0}\n",
       ".list-inline>li {display: inline-block}\n",
       ".list-inline>li:not(:last-child)::after {content: \"\\00b7\"; padding: 0 .5ex}\n",
       "</style>\n",
       "<ol class=list-inline><li>2</li><li>3</li></ol>\n"
      ],
      "text/latex": [
       "\\begin{enumerate*}\n",
       "\\item 2\n",
       "\\item 3\n",
       "\\end{enumerate*}\n"
      ],
      "text/markdown": [
       "1. 2\n",
       "2. 3\n",
       "\n",
       "\n"
      ],
      "text/plain": [
       "[1] 2 3"
      ]
     },
     "metadata": {},
     "output_type": "display_data"
    }
   ],
   "source": [
    "v[-1]"
   ]
  },
  {
   "cell_type": "markdown",
   "metadata": {},
   "source": [
    "A negative index **removes** that item from the vector and returns the remaining items. "
   ]
  },
  {
   "cell_type": "code",
   "execution_count": 15,
   "metadata": {},
   "outputs": [
    {
     "data": {
      "text/html": [
       "<style>\n",
       ".list-inline {list-style: none; margin:0; padding: 0}\n",
       ".list-inline>li {display: inline-block}\n",
       ".list-inline>li:not(:last-child)::after {content: \"\\00b7\"; padding: 0 .5ex}\n",
       "</style>\n",
       "<ol class=list-inline><li>1</li><li>3</li></ol>\n"
      ],
      "text/latex": [
       "\\begin{enumerate*}\n",
       "\\item 1\n",
       "\\item 3\n",
       "\\end{enumerate*}\n"
      ],
      "text/markdown": [
       "1. 1\n",
       "2. 3\n",
       "\n",
       "\n"
      ],
      "text/plain": [
       "[1] 1 3"
      ]
     },
     "metadata": {},
     "output_type": "display_data"
    }
   ],
   "source": [
    "v[-2]"
   ]
  },
  {
   "cell_type": "markdown",
   "metadata": {},
   "source": [
    "The length of a vector can be computed in R using the [length](https://www.rdocumentation.org/packages/base/versions/3.6.2/topics/length) function.\n",
    "The length function is useful for accessing the last item in a vector. "
   ]
  },
  {
   "cell_type": "code",
   "execution_count": 17,
   "metadata": {},
   "outputs": [
    {
     "data": {
      "text/html": [
       "3"
      ],
      "text/latex": [
       "3"
      ],
      "text/markdown": [
       "3"
      ],
      "text/plain": [
       "[1] 3"
      ]
     },
     "metadata": {},
     "output_type": "display_data"
    }
   ],
   "source": [
    "L = length(v)\n",
    "v[L]"
   ]
  },
  {
   "cell_type": "markdown",
   "metadata": {},
   "source": [
    "Vectors in R work just like they do in the mathematics we learned during lecture.\n",
    "You can multiply a vector by a scalar"
   ]
  },
  {
   "cell_type": "code",
   "execution_count": 18,
   "metadata": {},
   "outputs": [
    {
     "data": {
      "text/html": [
       "<style>\n",
       ".list-inline {list-style: none; margin:0; padding: 0}\n",
       ".list-inline>li {display: inline-block}\n",
       ".list-inline>li:not(:last-child)::after {content: \"\\00b7\"; padding: 0 .5ex}\n",
       "</style>\n",
       "<ol class=list-inline><li>3</li><li>6</li><li>9</li></ol>\n"
      ],
      "text/latex": [
       "\\begin{enumerate*}\n",
       "\\item 3\n",
       "\\item 6\n",
       "\\item 9\n",
       "\\end{enumerate*}\n"
      ],
      "text/markdown": [
       "1. 3\n",
       "2. 6\n",
       "3. 9\n",
       "\n",
       "\n"
      ],
      "text/plain": [
       "[1] 3 6 9"
      ]
     },
     "metadata": {},
     "output_type": "display_data"
    }
   ],
   "source": [
    "3*v"
   ]
  },
  {
   "cell_type": "markdown",
   "metadata": {},
   "source": [
    "and you can add two vector so long as they have the same length"
   ]
  },
  {
   "cell_type": "code",
   "execution_count": 26,
   "metadata": {},
   "outputs": [],
   "source": [
    "v = c(1,2,3)\n",
    "k = c(3,2,1)\n",
    "q = c(3,2,1,-1)\n",
    "j = c(1,0)"
   ]
  },
  {
   "cell_type": "code",
   "execution_count": 27,
   "metadata": {},
   "outputs": [
    {
     "data": {
      "text/html": [
       "<style>\n",
       ".list-inline {list-style: none; margin:0; padding: 0}\n",
       ".list-inline>li {display: inline-block}\n",
       ".list-inline>li:not(:last-child)::after {content: \"\\00b7\"; padding: 0 .5ex}\n",
       "</style>\n",
       "<ol class=list-inline><li>4</li><li>4</li><li>4</li></ol>\n"
      ],
      "text/latex": [
       "\\begin{enumerate*}\n",
       "\\item 4\n",
       "\\item 4\n",
       "\\item 4\n",
       "\\end{enumerate*}\n"
      ],
      "text/markdown": [
       "1. 4\n",
       "2. 4\n",
       "3. 4\n",
       "\n",
       "\n"
      ],
      "text/plain": [
       "[1] 4 4 4"
      ]
     },
     "metadata": {},
     "output_type": "display_data"
    }
   ],
   "source": [
    "v+k"
   ]
  },
  {
   "cell_type": "markdown",
   "metadata": {},
   "source": [
    "But you need to be very careful if two vectors do not have the same length because R will still return a vector. \n",
    "Lets look at what happens when we add $k$ of length 3 and $j$ of length 2 "
   ]
  },
  {
   "cell_type": "code",
   "execution_count": 28,
   "metadata": {},
   "outputs": [
    {
     "name": "stderr",
     "output_type": "stream",
     "text": [
      "Warning message in k + j:\n",
      "“longer object length is not a multiple of shorter object length”\n"
     ]
    },
    {
     "data": {
      "text/html": [
       "<style>\n",
       ".list-inline {list-style: none; margin:0; padding: 0}\n",
       ".list-inline>li {display: inline-block}\n",
       ".list-inline>li:not(:last-child)::after {content: \"\\00b7\"; padding: 0 .5ex}\n",
       "</style>\n",
       "<ol class=list-inline><li>4</li><li>2</li><li>2</li></ol>\n"
      ],
      "text/latex": [
       "\\begin{enumerate*}\n",
       "\\item 4\n",
       "\\item 2\n",
       "\\item 2\n",
       "\\end{enumerate*}\n"
      ],
      "text/markdown": [
       "1. 4\n",
       "2. 2\n",
       "3. 2\n",
       "\n",
       "\n"
      ],
      "text/plain": [
       "[1] 4 2 2"
      ]
     },
     "metadata": {},
     "output_type": "display_data"
    }
   ],
   "source": [
    "k+j"
   ]
  },
  {
   "cell_type": "markdown",
   "metadata": {},
   "source": [
    "R still returns a new vector! But what happened here? \n",
    "The vector $k$ contains the ordered item (3,2,1) and $j$ contains the items (1,0) and is one item shorter than $k$.\n",
    "To make the vector $j$ a length of 3, R tacked onto the end of $j$ the first item again. That is, R changed $i$ from (1,0) to (1,0,1) and then added together $k$ and this \"extended\" $j$ vector. Yikes! \n",
    "\n",
    "Lets look at another example, adding $q$ of length 4 and $j$ of length 2."
   ]
  },
  {
   "cell_type": "code",
   "execution_count": 29,
   "metadata": {},
   "outputs": [
    {
     "data": {
      "text/html": [
       "<style>\n",
       ".list-inline {list-style: none; margin:0; padding: 0}\n",
       ".list-inline>li {display: inline-block}\n",
       ".list-inline>li:not(:last-child)::after {content: \"\\00b7\"; padding: 0 .5ex}\n",
       "</style>\n",
       "<ol class=list-inline><li>4</li><li>2</li><li>2</li><li>-1</li></ol>\n"
      ],
      "text/latex": [
       "\\begin{enumerate*}\n",
       "\\item 4\n",
       "\\item 2\n",
       "\\item 2\n",
       "\\item -1\n",
       "\\end{enumerate*}\n"
      ],
      "text/markdown": [
       "1. 4\n",
       "2. 2\n",
       "3. 2\n",
       "4. -1\n",
       "\n",
       "\n"
      ],
      "text/plain": [
       "[1]  4  2  2 -1"
      ]
     },
     "metadata": {},
     "output_type": "display_data"
    }
   ],
   "source": [
    "q+j"
   ]
  },
  {
   "cell_type": "markdown",
   "metadata": {},
   "source": [
    "What is happening here? \n",
    "The vector $q$ has four items but $j$ has only two. \n",
    "To make $j$ the same length as $q$, R extended $j$.\n",
    "The first item of $j$ was copied into the third position and the second item in $j$ was copied into the fourth item. \n",
    "R changed $j$ from (1,0) to (1,0,1,0).\n",
    "\n",
    "This process in R is called **recycling**"
   ]
  },
  {
   "cell_type": "markdown",
   "metadata": {},
   "source": [
    "### Matrices \n",
    "\n",
    "Matrices in R can be built by calling, you guessed it, the function called [matrix](https://www.rdocumentation.org/packages/base/versions/3.6.2/topics/matrix).\n",
    "The matrix function requires you to provide a vector of elements to include in the matrix and either the number of rows, number of columns, or both. "
   ]
  },
  {
   "cell_type": "code",
   "execution_count": 40,
   "metadata": {},
   "outputs": [
    {
     "name": "stdout",
     "output_type": "stream",
     "text": [
      "     [,1] [,2]\n",
      "[1,]    1    3\n",
      "[2,]    2    4\n"
     ]
    }
   ],
   "source": [
    "M = matrix(c(1,2,3,4),nrow=2)\n",
    "print(M)"
   ]
  },
  {
   "cell_type": "markdown",
   "metadata": {},
   "source": [
    "By default, R fills in the matrix column by column.\n",
    "If you would rather the matrix be filled row by row you can add the option byrow=TRUE.\n",
    "Just like in python, the word TRUE is a special object in R."
   ]
  },
  {
   "cell_type": "code",
   "execution_count": 41,
   "metadata": {},
   "outputs": [
    {
     "name": "stdout",
     "output_type": "stream",
     "text": [
      "     [,1] [,2]\n",
      "[1,]    1    2\n",
      "[2,]    3    4\n"
     ]
    }
   ],
   "source": [
    "M = matrix(c(1,2,3,4),nrow=2,byrow=TRUE)\n",
    "print(M)"
   ]
  },
  {
   "cell_type": "markdown",
   "metadata": {},
   "source": [
    "Individual elements in a matrix can be accessed by typing the name of the matrix, square brackets, and entering the row number and column number of the itme you want. "
   ]
  },
  {
   "cell_type": "code",
   "execution_count": 47,
   "metadata": {},
   "outputs": [
    {
     "data": {
      "text/html": [
       "<style>\n",
       ".list-inline {list-style: none; margin:0; padding: 0}\n",
       ".list-inline>li {display: inline-block}\n",
       ".list-inline>li:not(:last-child)::after {content: \"\\00b7\"; padding: 0 .5ex}\n",
       "</style>\n",
       "<ol class=list-inline><li>1</li><li>2</li></ol>\n"
      ],
      "text/latex": [
       "\\begin{enumerate*}\n",
       "\\item 1\n",
       "\\item 2\n",
       "\\end{enumerate*}\n"
      ],
      "text/markdown": [
       "1. 1\n",
       "2. 2\n",
       "\n",
       "\n"
      ],
      "text/plain": [
       "[1] 1 2"
      ]
     },
     "metadata": {},
     "output_type": "display_data"
    }
   ],
   "source": [
    "M[1,2]"
   ]
  },
  {
   "cell_type": "markdown",
   "metadata": {},
   "source": [
    "If you only provide a row number, then R returns the entire row"
   ]
  },
  {
   "cell_type": "code",
   "execution_count": 50,
   "metadata": {},
   "outputs": [
    {
     "data": {
      "text/html": [
       "<style>\n",
       ".list-inline {list-style: none; margin:0; padding: 0}\n",
       ".list-inline>li {display: inline-block}\n",
       ".list-inline>li:not(:last-child)::after {content: \"\\00b7\"; padding: 0 .5ex}\n",
       "</style>\n",
       "<ol class=list-inline><li>1</li><li>2</li></ol>\n"
      ],
      "text/latex": [
       "\\begin{enumerate*}\n",
       "\\item 1\n",
       "\\item 2\n",
       "\\end{enumerate*}\n"
      ],
      "text/markdown": [
       "1. 1\n",
       "2. 2\n",
       "\n",
       "\n"
      ],
      "text/plain": [
       "[1] 1 2"
      ]
     },
     "metadata": {},
     "output_type": "display_data"
    }
   ],
   "source": [
    "M[1,]"
   ]
  },
  {
   "cell_type": "markdown",
   "metadata": {},
   "source": [
    "If you only provide a column number, then R returns the entire column"
   ]
  },
  {
   "cell_type": "code",
   "execution_count": 53,
   "metadata": {},
   "outputs": [
    {
     "data": {
      "text/html": [
       "<style>\n",
       ".list-inline {list-style: none; margin:0; padding: 0}\n",
       ".list-inline>li {display: inline-block}\n",
       ".list-inline>li:not(:last-child)::after {content: \"\\00b7\"; padding: 0 .5ex}\n",
       "</style>\n",
       "<ol class=list-inline><li>2</li><li>4</li></ol>\n"
      ],
      "text/latex": [
       "\\begin{enumerate*}\n",
       "\\item 2\n",
       "\\item 4\n",
       "\\end{enumerate*}\n"
      ],
      "text/markdown": [
       "1. 2\n",
       "2. 4\n",
       "\n",
       "\n"
      ],
      "text/plain": [
       "[1] 2 4"
      ]
     },
     "metadata": {},
     "output_type": "display_data"
    }
   ],
   "source": [
    "M[,2]"
   ]
  },
  {
   "cell_type": "markdown",
   "metadata": {},
   "source": [
    "Just like we learned in class, you can add and subtract matrices in R. "
   ]
  },
  {
   "cell_type": "code",
   "execution_count": 45,
   "metadata": {},
   "outputs": [
    {
     "name": "stdout",
     "output_type": "stream",
     "text": [
      "[1] \"M\"\n",
      "     [,1] [,2]\n",
      "[1,]    1    2\n",
      "[2,]    3    4\n",
      "[1] \"N\"\n",
      "     [,1] [,2]\n",
      "[1,]   -1 0.98\n",
      "[2,]  -10 4.00\n",
      "[1] \"M plus N\"\n",
      "     [,1] [,2]\n",
      "[1,]    0 2.98\n",
      "[2,]   -7 8.00\n",
      "[1] \"M minus N\"\n",
      "     [,1] [,2]\n",
      "[1,]    2 1.02\n",
      "[2,]   13 0.00\n"
     ]
    }
   ],
   "source": [
    "M = matrix(c(1,2,3,4),nrow=2,byrow=TRUE)\n",
    "N = matrix(c(-1,0.98,-10,4),nrow=2,byrow=TRUE)\n",
    "\n",
    "print(\"M\")\n",
    "print(M)\n",
    "\n",
    "print(\"N\")\n",
    "print(N)\n",
    "\n",
    "Z = M+N\n",
    "print(\"M plus N\")\n",
    "print(Z)\n",
    "\n",
    "print(\"M minus N\")\n",
    "print(M-N)"
   ]
  },
  {
   "cell_type": "markdown",
   "metadata": {},
   "source": [
    "To multiply a matrix times a vector, we need to use a special multiply symbol in R"
   ]
  },
  {
   "cell_type": "code",
   "execution_count": 55,
   "metadata": {},
   "outputs": [
    {
     "name": "stdout",
     "output_type": "stream",
     "text": [
      "[1] \"M\"\n",
      "     [,1] [,2]\n",
      "[1,]    1    2\n",
      "[2,]    3    4\n",
      "[1] \"v\"\n",
      "[1] -1  1\n",
      "[1] \"M times v\"\n",
      "     [,1]\n",
      "[1,]    1\n",
      "[2,]    1\n"
     ]
    }
   ],
   "source": [
    "M = matrix(c(1,2,3,4),nrow=2,byrow=TRUE)\n",
    "v = c(-1,1)\n",
    "\n",
    "print(\"M\")\n",
    "print(M)\n",
    "\n",
    "print(\"v\")\n",
    "print(v)\n",
    "\n",
    "mTimesv = M%*%v\n",
    "\n",
    "print(\"M times v\")\n",
    "print(mTimesv)"
   ]
  },
  {
   "cell_type": "markdown",
   "metadata": {},
   "source": [
    "### Loading a package in R\n",
    "To load a package in R you use the require or library command."
   ]
  },
  {
   "cell_type": "code",
   "execution_count": 56,
   "metadata": {},
   "outputs": [],
   "source": [
    "library(MASS)"
   ]
  },
  {
   "cell_type": "markdown",
   "metadata": {},
   "source": [
    "### The data frame\n",
    "One of the most important objects in R is the dataframe.\n",
    "The dataframe is a matrix where rows represent observations and columns correpsond to different covariates.\n",
    "\n",
    "Inside the MASS package, which we just loaded, are a ton of datasets for free. \n",
    "lets look at the dataset *GAGurine*. This dataset is described as \n",
    "\n",
    "\"Data were collected on the concentration of a chemical GAG in the urine of 314 children aged from zero to seventeen years. The aim of the study was to produce a chart to help a paediatrican to assess if a child's GAG concentration is ‘normal’.\""
   ]
  },
  {
   "cell_type": "code",
   "execution_count": 65,
   "metadata": {},
   "outputs": [
    {
     "name": "stdout",
     "output_type": "stream",
     "text": [
      "      Age  GAG\n",
      "1    0.00 23.0\n",
      "2    0.00 23.8\n",
      "3    0.00 16.9\n",
      "4    0.00 18.6\n",
      "5    0.01 17.9\n",
      "6    0.01 25.9\n",
      "7    0.01 16.5\n",
      "8    0.01 26.3\n",
      "9    0.01 26.9\n",
      "10   0.01 17.9\n",
      "11   0.01 29.1\n",
      "12   0.02 32.6\n",
      "13   0.02 41.9\n",
      "14   0.03 38.7\n",
      "15   0.03 37.6\n",
      "16   0.03 46.4\n",
      "17   0.04 30.5\n",
      "18   0.04 34.8\n",
      "19   0.04 26.7\n",
      "20   0.05 33.0\n",
      "21   0.05 56.3\n",
      "22   0.05 33.5\n",
      "23   0.05 29.7\n",
      "24   0.05 32.8\n",
      "25   0.05 27.6\n",
      "26   0.06 31.9\n",
      "27   0.07 55.4\n",
      "28   0.10 33.3\n",
      "29   0.10 36.4\n",
      "30   0.14 25.9\n",
      "31   0.14 21.6\n",
      "32   0.15 26.0\n",
      "33   0.17 12.8\n",
      "34   0.18 34.2\n",
      "35   0.23 19.4\n",
      "36   0.24 21.9\n",
      "37   0.24 19.3\n",
      "38   0.25 26.2\n",
      "39   0.27  9.6\n",
      "40   0.28 36.1\n",
      "41   0.29 19.7\n",
      "42   0.29 19.2\n",
      "43   0.30 20.4\n",
      "44   0.33 23.1\n",
      "45   0.33 23.8\n",
      "46   0.40 21.6\n",
      "47   0.41 25.4\n",
      "48   0.45 18.4\n",
      "49   0.46 18.6\n",
      "50   0.47 26.4\n",
      "51   0.50 25.7\n",
      "52   0.50 20.4\n",
      "53   0.53 15.9\n",
      "54   0.55 20.8\n",
      "55   0.56 20.9\n",
      "56   0.56 15.7\n",
      "57   0.57 20.4\n",
      "58   0.58 14.1\n",
      "59   0.59 21.4\n",
      "60   0.59 15.6\n",
      "61   0.62 30.5\n",
      "62   0.64 15.4\n",
      "63   0.65 19.2\n",
      "64   0.65 22.6\n",
      "65   0.69 15.2\n",
      "66   0.71 14.9\n",
      "67   0.75 39.5\n",
      "68   0.80 17.3\n",
      "69   0.80 17.2\n",
      "70   0.82 13.8\n",
      "71   0.83 17.7\n",
      "72   0.84 15.6\n",
      "73   0.85 20.4\n",
      "74   0.86 14.8\n",
      "75   0.86 19.5\n",
      "76   0.87 18.0\n",
      "77   0.89 22.5\n",
      "78   0.94 20.4\n",
      "79   0.96 13.1\n",
      "80   0.97 17.4\n",
      "81   0.98 18.9\n",
      "82   0.99 16.1\n",
      "83   1.02 21.9\n",
      "84   1.03 18.4\n",
      "85   1.03 15.2\n",
      "86   1.05 19.1\n",
      "87   1.07 15.1\n",
      "88   1.07 17.2\n",
      "89   1.07 18.4\n",
      "90   1.08 24.1\n",
      "91   1.15 19.0\n",
      "92   1.23 16.0\n",
      "93   1.24 21.8\n",
      "94   1.25 16.5\n",
      "95   1.25 16.2\n",
      "96   1.25 10.8\n",
      "97   1.30 27.0\n",
      "98   1.31 17.3\n",
      "99   1.31 18.3\n",
      "100  1.31 18.3\n",
      "101  1.35 13.3\n",
      "102  1.37 12.1\n",
      "103  1.39 11.0\n",
      "104  1.39 12.7\n",
      "105  1.53 13.4\n",
      "106  1.59 14.3\n",
      "107  1.65 11.5\n",
      "108  1.75 16.5\n",
      "109  1.76 25.1\n",
      "110  1.77 16.3\n",
      "111  1.84 15.4\n",
      "112  1.86 18.6\n",
      "113  1.91 18.3\n",
      "114  1.99 13.2\n",
      "115  1.99 11.1\n",
      "116  2.02 11.0\n",
      "117  2.07 12.5\n",
      "118  2.09 14.8\n",
      "119  2.11 16.8\n",
      "120  2.12 12.8\n",
      "121  2.13 12.2\n",
      "122  2.19 14.7\n",
      "123  2.29  9.7\n",
      "124  2.32 14.2\n",
      "125  2.37 13.9\n",
      "126  2.41  9.5\n",
      "127  2.43 14.6\n",
      "128  2.49 12.1\n",
      "129  2.58 10.6\n",
      "130  2.73 10.8\n",
      "131  2.73 10.4\n",
      "132  2.74  9.9\n",
      "133  2.77  9.6\n",
      "134  2.82 21.7\n",
      "135  2.87 11.8\n",
      "136  2.87 11.8\n",
      "137  2.92 13.0\n",
      "138  2.95 11.3\n",
      "139  2.98  9.0\n",
      "140  3.00 18.3\n",
      "141  3.02 14.6\n",
      "142  3.03 11.5\n",
      "143  3.10  7.3\n",
      "144  3.13 11.6\n",
      "145  3.18  8.6\n",
      "146  3.19 11.5\n",
      "147  3.21  8.3\n",
      "148  3.29 10.3\n",
      "149  3.29 12.5\n",
      "150  3.63 13.2\n",
      "151  3.64 17.9\n",
      "152  3.64 10.7\n",
      "153  3.71  8.6\n",
      "154  3.85 12.5\n",
      "155  3.98  8.6\n",
      "156  4.07  6.0\n",
      "157  4.09 12.6\n",
      "158  4.11 12.7\n",
      "159  4.21 10.2\n",
      "160  4.27 10.7\n",
      "161  4.29  8.4\n",
      "162  4.29  9.9\n",
      "163  4.35  7.7\n",
      "164  4.38 13.6\n",
      "165  4.39 12.3\n",
      "166  4.43  7.5\n",
      "167  4.48 11.8\n",
      "168  4.50  7.7\n",
      "169  4.55 10.3\n",
      "170  4.65 16.9\n",
      "171  4.67  8.5\n",
      "172  4.68  9.7\n",
      "173  4.70 10.6\n",
      "174  4.75  6.4\n",
      "175  4.76  8.8\n",
      "176  4.77  8.8\n",
      "177  4.83  9.6\n",
      "178  4.85  6.6\n",
      "179  4.85  7.9\n",
      "180  4.93  6.3\n",
      "181  4.98 13.1\n",
      "182  4.99  7.8\n",
      "183  5.01  8.7\n",
      "184  5.04  9.2\n",
      "185  5.08  9.2\n",
      "186  5.10  8.4\n",
      "187  5.14 10.5\n",
      "188  5.18  8.6\n",
      "189  5.26  8.7\n",
      "190  5.26  8.0\n",
      "191  5.28 11.1\n",
      "192  5.29  7.5\n",
      "193  5.29  7.6\n",
      "194  5.35  8.7\n",
      "195  5.67  8.8\n",
      "196  5.79 11.4\n",
      "197  5.87  6.6\n",
      "198  5.92 10.6\n",
      "199  6.04  5.5\n",
      "200  6.05  8.7\n",
      "201  6.12  6.8\n",
      "202  6.15  9.7\n",
      "203  6.18  6.8\n",
      "204  6.19  5.7\n",
      "205  6.20  8.5\n",
      "206  6.20  5.5\n",
      "207  6.20  8.4\n",
      "208  6.25  8.7\n",
      "209  6.28  9.8\n",
      "210  6.31  7.7\n",
      "211  6.33  6.8\n",
      "212  6.34  6.6\n",
      "213  6.37  7.0\n",
      "214  6.43  6.3\n",
      "215  6.59  6.8\n",
      "216  6.61  8.8\n",
      "217  6.73 10.3\n",
      "218  6.90  8.0\n",
      "219  7.07  1.8\n",
      "220  7.35 13.4\n",
      "221  7.38  6.8\n",
      "222  7.44  5.7\n",
      "223  7.55  7.1\n",
      "224  7.57  6.7\n",
      "225  7.62  6.5\n",
      "226  7.62  7.7\n",
      "227  7.79  5.8\n",
      "228  7.80  6.4\n",
      "229  7.95  6.5\n",
      "230  7.95  4.1\n",
      "231  7.95  8.0\n",
      "232  8.03  6.8\n",
      "233  8.04  6.4\n",
      "234  8.17  8.3\n",
      "235  8.24  7.3\n",
      "236  8.28  5.6\n",
      "237  8.35  5.1\n",
      "238  8.36  6.9\n",
      "239  8.40  7.7\n",
      "240  8.46  5.4\n",
      "241  8.73  5.9\n",
      "242  8.81  5.0\n",
      "243  9.01  5.2\n",
      "244  9.05  6.1\n",
      "245  9.28  6.3\n",
      "246  9.28  6.3\n",
      "247  9.36  7.1\n",
      "248  9.55  7.4\n",
      "249  9.86  5.0\n",
      "250 10.00  5.9\n",
      "251 10.02  6.0\n",
      "252 10.09  4.8\n",
      "253 10.10  9.9\n",
      "254 10.12  5.4\n",
      "255 10.15  5.0\n",
      "256 10.28  6.1\n",
      "257 10.40 13.8\n",
      "258 10.49  6.2\n",
      "259 10.63  5.5\n",
      "260 10.70  5.5\n",
      "261 10.81 11.7\n",
      "262 11.15  5.9\n",
      "263 11.45  9.8\n",
      "264 11.47  6.1\n",
      "265 11.55  7.5\n",
      "266 11.78  4.1\n",
      "267 11.85  7.7\n",
      "268 11.90  8.1\n",
      "269 11.98  4.5\n",
      "270 12.15  5.8\n",
      "271 12.23  5.4\n",
      "272 12.32  5.7\n",
      "273 12.39  3.1\n",
      "274 12.46  6.4\n",
      "275 12.53  7.0\n",
      "276 12.75  5.7\n",
      "277 12.80  3.9\n",
      "278 12.88  9.4\n",
      "279 12.89  4.4\n",
      "280 12.97  5.0\n",
      "281 13.13 15.9\n",
      "282 13.40  3.7\n",
      "283 13.42  9.1\n",
      "284 13.73  4.7\n",
      "285 13.73  3.6\n",
      "286 13.92  3.7\n",
      "287 13.97  4.1\n",
      "288 14.12  7.9\n",
      "289 14.22  3.3\n",
      "290 14.61  6.6\n",
      "291 14.64  1.9\n",
      "292 14.85  3.0\n",
      "293 14.88  5.7\n",
      "294 14.92  3.2\n",
      "295 14.95  3.8\n",
      "296 14.96  5.3\n",
      "297 15.06  3.2\n",
      "298 15.15  4.2\n",
      "299 15.55  6.0\n",
      "300 15.72  9.7\n",
      "301 15.86  3.4\n",
      "302 15.87  3.2\n",
      "303 15.91  2.5\n",
      "304 16.01  2.0\n",
      "305 16.12  4.0\n",
      "306 16.23  4.3\n",
      "307 16.60  2.8\n",
      "308 16.74  2.2\n",
      "309 16.78  4.7\n",
      "310 17.08  2.5\n",
      "311 17.14  2.2\n",
      "312 17.23  2.2\n",
      "313 17.30  1.9\n",
      "314 17.67  9.3\n"
     ]
    }
   ],
   "source": [
    "d = GAGurine\n",
    "print(d)"
   ]
  },
  {
   "cell_type": "markdown",
   "metadata": {},
   "source": [
    "Because a dataframe is a matrix, we can ask R to return columns, rows, etc. \n",
    "Below i ask R for the second column"
   ]
  },
  {
   "cell_type": "code",
   "execution_count": 67,
   "metadata": {},
   "outputs": [
    {
     "data": {
      "text/html": [
       "<style>\n",
       ".list-inline {list-style: none; margin:0; padding: 0}\n",
       ".list-inline>li {display: inline-block}\n",
       ".list-inline>li:not(:last-child)::after {content: \"\\00b7\"; padding: 0 .5ex}\n",
       "</style>\n",
       "<ol class=list-inline><li>23</li><li>23.8</li><li>16.9</li><li>18.6</li><li>17.9</li><li>25.9</li><li>16.5</li><li>26.3</li><li>26.9</li><li>17.9</li><li>29.1</li><li>32.6</li><li>41.9</li><li>38.7</li><li>37.6</li><li>46.4</li><li>30.5</li><li>34.8</li><li>26.7</li><li>33</li><li>56.3</li><li>33.5</li><li>29.7</li><li>32.8</li><li>27.6</li><li>31.9</li><li>55.4</li><li>33.3</li><li>36.4</li><li>25.9</li><li>21.6</li><li>26</li><li>12.8</li><li>34.2</li><li>19.4</li><li>21.9</li><li>19.3</li><li>26.2</li><li>9.6</li><li>36.1</li><li>19.7</li><li>19.2</li><li>20.4</li><li>23.1</li><li>23.8</li><li>21.6</li><li>25.4</li><li>18.4</li><li>18.6</li><li>26.4</li><li>25.7</li><li>20.4</li><li>15.9</li><li>20.8</li><li>20.9</li><li>15.7</li><li>20.4</li><li>14.1</li><li>21.4</li><li>15.6</li><li>30.5</li><li>15.4</li><li>19.2</li><li>22.6</li><li>15.2</li><li>14.9</li><li>39.5</li><li>17.3</li><li>17.2</li><li>13.8</li><li>17.7</li><li>15.6</li><li>20.4</li><li>14.8</li><li>19.5</li><li>18</li><li>22.5</li><li>20.4</li><li>13.1</li><li>17.4</li><li>18.9</li><li>16.1</li><li>21.9</li><li>18.4</li><li>15.2</li><li>19.1</li><li>15.1</li><li>17.2</li><li>18.4</li><li>24.1</li><li>19</li><li>16</li><li>21.8</li><li>16.5</li><li>16.2</li><li>10.8</li><li>27</li><li>17.3</li><li>18.3</li><li>18.3</li><li>13.3</li><li>12.1</li><li>11</li><li>12.7</li><li>13.4</li><li>14.3</li><li>11.5</li><li>16.5</li><li>25.1</li><li>16.3</li><li>15.4</li><li>18.6</li><li>18.3</li><li>13.2</li><li>11.1</li><li>11</li><li>12.5</li><li>14.8</li><li>16.8</li><li>12.8</li><li>12.2</li><li>14.7</li><li>9.7</li><li>14.2</li><li>13.9</li><li>9.5</li><li>14.6</li><li>12.1</li><li>10.6</li><li>10.8</li><li>10.4</li><li>9.9</li><li>9.6</li><li>21.7</li><li>11.8</li><li>11.8</li><li>13</li><li>11.3</li><li>9</li><li>18.3</li><li>14.6</li><li>11.5</li><li>7.3</li><li>11.6</li><li>8.6</li><li>11.5</li><li>8.3</li><li>10.3</li><li>12.5</li><li>13.2</li><li>17.9</li><li>10.7</li><li>8.6</li><li>12.5</li><li>8.6</li><li>6</li><li>12.6</li><li>12.7</li><li>10.2</li><li>10.7</li><li>8.4</li><li>9.9</li><li>7.7</li><li>13.6</li><li>12.3</li><li>7.5</li><li>11.8</li><li>7.7</li><li>10.3</li><li>16.9</li><li>8.5</li><li>9.7</li><li>10.6</li><li>6.4</li><li>8.8</li><li>8.8</li><li>9.6</li><li>6.6</li><li>7.9</li><li>6.3</li><li>13.1</li><li>7.8</li><li>8.7</li><li>9.2</li><li>9.2</li><li>8.4</li><li>10.5</li><li>8.6</li><li>8.7</li><li>8</li><li>11.1</li><li>7.5</li><li>7.6</li><li>8.7</li><li>8.8</li><li>11.4</li><li>6.6</li><li>10.6</li><li>5.5</li><li>8.7</li><li>6.8</li><li>9.7</li><li>6.8</li><li>5.7</li><li>8.5</li><li>5.5</li><li>8.4</li><li>8.7</li><li>9.8</li><li>7.7</li><li>6.8</li><li>6.6</li><li>7</li><li>6.3</li><li>6.8</li><li>8.8</li><li>10.3</li><li>8</li><li>1.8</li><li>13.4</li><li>6.8</li><li>5.7</li><li>7.1</li><li>6.7</li><li>6.5</li><li>7.7</li><li>5.8</li><li>6.4</li><li>6.5</li><li>4.1</li><li>8</li><li>6.8</li><li>6.4</li><li>8.3</li><li>7.3</li><li>5.6</li><li>5.1</li><li>6.9</li><li>7.7</li><li>5.4</li><li>5.9</li><li>5</li><li>5.2</li><li>6.1</li><li>6.3</li><li>6.3</li><li>7.1</li><li>7.4</li><li>5</li><li>5.9</li><li>6</li><li>4.8</li><li>9.9</li><li>5.4</li><li>5</li><li>6.1</li><li>13.8</li><li>6.2</li><li>5.5</li><li>5.5</li><li>11.7</li><li>5.9</li><li>9.8</li><li>6.1</li><li>7.5</li><li>4.1</li><li>7.7</li><li>8.1</li><li>4.5</li><li>5.8</li><li>5.4</li><li>5.7</li><li>3.1</li><li>6.4</li><li>7</li><li>5.7</li><li>3.9</li><li>9.4</li><li>4.4</li><li>5</li><li>15.9</li><li>3.7</li><li>9.1</li><li>4.7</li><li>3.6</li><li>3.7</li><li>4.1</li><li>7.9</li><li>3.3</li><li>6.6</li><li>1.9</li><li>3</li><li>5.7</li><li>3.2</li><li>3.8</li><li>5.3</li><li>3.2</li><li>4.2</li><li>6</li><li>9.7</li><li>3.4</li><li>3.2</li><li>2.5</li><li>2</li><li>4</li><li>4.3</li><li>2.8</li><li>2.2</li><li>4.7</li><li>2.5</li><li>2.2</li><li>2.2</li><li>1.9</li><li>9.3</li></ol>\n"
      ],
      "text/latex": [
       "\\begin{enumerate*}\n",
       "\\item 23\n",
       "\\item 23.8\n",
       "\\item 16.9\n",
       "\\item 18.6\n",
       "\\item 17.9\n",
       "\\item 25.9\n",
       "\\item 16.5\n",
       "\\item 26.3\n",
       "\\item 26.9\n",
       "\\item 17.9\n",
       "\\item 29.1\n",
       "\\item 32.6\n",
       "\\item 41.9\n",
       "\\item 38.7\n",
       "\\item 37.6\n",
       "\\item 46.4\n",
       "\\item 30.5\n",
       "\\item 34.8\n",
       "\\item 26.7\n",
       "\\item 33\n",
       "\\item 56.3\n",
       "\\item 33.5\n",
       "\\item 29.7\n",
       "\\item 32.8\n",
       "\\item 27.6\n",
       "\\item 31.9\n",
       "\\item 55.4\n",
       "\\item 33.3\n",
       "\\item 36.4\n",
       "\\item 25.9\n",
       "\\item 21.6\n",
       "\\item 26\n",
       "\\item 12.8\n",
       "\\item 34.2\n",
       "\\item 19.4\n",
       "\\item 21.9\n",
       "\\item 19.3\n",
       "\\item 26.2\n",
       "\\item 9.6\n",
       "\\item 36.1\n",
       "\\item 19.7\n",
       "\\item 19.2\n",
       "\\item 20.4\n",
       "\\item 23.1\n",
       "\\item 23.8\n",
       "\\item 21.6\n",
       "\\item 25.4\n",
       "\\item 18.4\n",
       "\\item 18.6\n",
       "\\item 26.4\n",
       "\\item 25.7\n",
       "\\item 20.4\n",
       "\\item 15.9\n",
       "\\item 20.8\n",
       "\\item 20.9\n",
       "\\item 15.7\n",
       "\\item 20.4\n",
       "\\item 14.1\n",
       "\\item 21.4\n",
       "\\item 15.6\n",
       "\\item 30.5\n",
       "\\item 15.4\n",
       "\\item 19.2\n",
       "\\item 22.6\n",
       "\\item 15.2\n",
       "\\item 14.9\n",
       "\\item 39.5\n",
       "\\item 17.3\n",
       "\\item 17.2\n",
       "\\item 13.8\n",
       "\\item 17.7\n",
       "\\item 15.6\n",
       "\\item 20.4\n",
       "\\item 14.8\n",
       "\\item 19.5\n",
       "\\item 18\n",
       "\\item 22.5\n",
       "\\item 20.4\n",
       "\\item 13.1\n",
       "\\item 17.4\n",
       "\\item 18.9\n",
       "\\item 16.1\n",
       "\\item 21.9\n",
       "\\item 18.4\n",
       "\\item 15.2\n",
       "\\item 19.1\n",
       "\\item 15.1\n",
       "\\item 17.2\n",
       "\\item 18.4\n",
       "\\item 24.1\n",
       "\\item 19\n",
       "\\item 16\n",
       "\\item 21.8\n",
       "\\item 16.5\n",
       "\\item 16.2\n",
       "\\item 10.8\n",
       "\\item 27\n",
       "\\item 17.3\n",
       "\\item 18.3\n",
       "\\item 18.3\n",
       "\\item 13.3\n",
       "\\item 12.1\n",
       "\\item 11\n",
       "\\item 12.7\n",
       "\\item 13.4\n",
       "\\item 14.3\n",
       "\\item 11.5\n",
       "\\item 16.5\n",
       "\\item 25.1\n",
       "\\item 16.3\n",
       "\\item 15.4\n",
       "\\item 18.6\n",
       "\\item 18.3\n",
       "\\item 13.2\n",
       "\\item 11.1\n",
       "\\item 11\n",
       "\\item 12.5\n",
       "\\item 14.8\n",
       "\\item 16.8\n",
       "\\item 12.8\n",
       "\\item 12.2\n",
       "\\item 14.7\n",
       "\\item 9.7\n",
       "\\item 14.2\n",
       "\\item 13.9\n",
       "\\item 9.5\n",
       "\\item 14.6\n",
       "\\item 12.1\n",
       "\\item 10.6\n",
       "\\item 10.8\n",
       "\\item 10.4\n",
       "\\item 9.9\n",
       "\\item 9.6\n",
       "\\item 21.7\n",
       "\\item 11.8\n",
       "\\item 11.8\n",
       "\\item 13\n",
       "\\item 11.3\n",
       "\\item 9\n",
       "\\item 18.3\n",
       "\\item 14.6\n",
       "\\item 11.5\n",
       "\\item 7.3\n",
       "\\item 11.6\n",
       "\\item 8.6\n",
       "\\item 11.5\n",
       "\\item 8.3\n",
       "\\item 10.3\n",
       "\\item 12.5\n",
       "\\item 13.2\n",
       "\\item 17.9\n",
       "\\item 10.7\n",
       "\\item 8.6\n",
       "\\item 12.5\n",
       "\\item 8.6\n",
       "\\item 6\n",
       "\\item 12.6\n",
       "\\item 12.7\n",
       "\\item 10.2\n",
       "\\item 10.7\n",
       "\\item 8.4\n",
       "\\item 9.9\n",
       "\\item 7.7\n",
       "\\item 13.6\n",
       "\\item 12.3\n",
       "\\item 7.5\n",
       "\\item 11.8\n",
       "\\item 7.7\n",
       "\\item 10.3\n",
       "\\item 16.9\n",
       "\\item 8.5\n",
       "\\item 9.7\n",
       "\\item 10.6\n",
       "\\item 6.4\n",
       "\\item 8.8\n",
       "\\item 8.8\n",
       "\\item 9.6\n",
       "\\item 6.6\n",
       "\\item 7.9\n",
       "\\item 6.3\n",
       "\\item 13.1\n",
       "\\item 7.8\n",
       "\\item 8.7\n",
       "\\item 9.2\n",
       "\\item 9.2\n",
       "\\item 8.4\n",
       "\\item 10.5\n",
       "\\item 8.6\n",
       "\\item 8.7\n",
       "\\item 8\n",
       "\\item 11.1\n",
       "\\item 7.5\n",
       "\\item 7.6\n",
       "\\item 8.7\n",
       "\\item 8.8\n",
       "\\item 11.4\n",
       "\\item 6.6\n",
       "\\item 10.6\n",
       "\\item 5.5\n",
       "\\item 8.7\n",
       "\\item 6.8\n",
       "\\item 9.7\n",
       "\\item 6.8\n",
       "\\item 5.7\n",
       "\\item 8.5\n",
       "\\item 5.5\n",
       "\\item 8.4\n",
       "\\item 8.7\n",
       "\\item 9.8\n",
       "\\item 7.7\n",
       "\\item 6.8\n",
       "\\item 6.6\n",
       "\\item 7\n",
       "\\item 6.3\n",
       "\\item 6.8\n",
       "\\item 8.8\n",
       "\\item 10.3\n",
       "\\item 8\n",
       "\\item 1.8\n",
       "\\item 13.4\n",
       "\\item 6.8\n",
       "\\item 5.7\n",
       "\\item 7.1\n",
       "\\item 6.7\n",
       "\\item 6.5\n",
       "\\item 7.7\n",
       "\\item 5.8\n",
       "\\item 6.4\n",
       "\\item 6.5\n",
       "\\item 4.1\n",
       "\\item 8\n",
       "\\item 6.8\n",
       "\\item 6.4\n",
       "\\item 8.3\n",
       "\\item 7.3\n",
       "\\item 5.6\n",
       "\\item 5.1\n",
       "\\item 6.9\n",
       "\\item 7.7\n",
       "\\item 5.4\n",
       "\\item 5.9\n",
       "\\item 5\n",
       "\\item 5.2\n",
       "\\item 6.1\n",
       "\\item 6.3\n",
       "\\item 6.3\n",
       "\\item 7.1\n",
       "\\item 7.4\n",
       "\\item 5\n",
       "\\item 5.9\n",
       "\\item 6\n",
       "\\item 4.8\n",
       "\\item 9.9\n",
       "\\item 5.4\n",
       "\\item 5\n",
       "\\item 6.1\n",
       "\\item 13.8\n",
       "\\item 6.2\n",
       "\\item 5.5\n",
       "\\item 5.5\n",
       "\\item 11.7\n",
       "\\item 5.9\n",
       "\\item 9.8\n",
       "\\item 6.1\n",
       "\\item 7.5\n",
       "\\item 4.1\n",
       "\\item 7.7\n",
       "\\item 8.1\n",
       "\\item 4.5\n",
       "\\item 5.8\n",
       "\\item 5.4\n",
       "\\item 5.7\n",
       "\\item 3.1\n",
       "\\item 6.4\n",
       "\\item 7\n",
       "\\item 5.7\n",
       "\\item 3.9\n",
       "\\item 9.4\n",
       "\\item 4.4\n",
       "\\item 5\n",
       "\\item 15.9\n",
       "\\item 3.7\n",
       "\\item 9.1\n",
       "\\item 4.7\n",
       "\\item 3.6\n",
       "\\item 3.7\n",
       "\\item 4.1\n",
       "\\item 7.9\n",
       "\\item 3.3\n",
       "\\item 6.6\n",
       "\\item 1.9\n",
       "\\item 3\n",
       "\\item 5.7\n",
       "\\item 3.2\n",
       "\\item 3.8\n",
       "\\item 5.3\n",
       "\\item 3.2\n",
       "\\item 4.2\n",
       "\\item 6\n",
       "\\item 9.7\n",
       "\\item 3.4\n",
       "\\item 3.2\n",
       "\\item 2.5\n",
       "\\item 2\n",
       "\\item 4\n",
       "\\item 4.3\n",
       "\\item 2.8\n",
       "\\item 2.2\n",
       "\\item 4.7\n",
       "\\item 2.5\n",
       "\\item 2.2\n",
       "\\item 2.2\n",
       "\\item 1.9\n",
       "\\item 9.3\n",
       "\\end{enumerate*}\n"
      ],
      "text/markdown": [
       "1. 23\n",
       "2. 23.8\n",
       "3. 16.9\n",
       "4. 18.6\n",
       "5. 17.9\n",
       "6. 25.9\n",
       "7. 16.5\n",
       "8. 26.3\n",
       "9. 26.9\n",
       "10. 17.9\n",
       "11. 29.1\n",
       "12. 32.6\n",
       "13. 41.9\n",
       "14. 38.7\n",
       "15. 37.6\n",
       "16. 46.4\n",
       "17. 30.5\n",
       "18. 34.8\n",
       "19. 26.7\n",
       "20. 33\n",
       "21. 56.3\n",
       "22. 33.5\n",
       "23. 29.7\n",
       "24. 32.8\n",
       "25. 27.6\n",
       "26. 31.9\n",
       "27. 55.4\n",
       "28. 33.3\n",
       "29. 36.4\n",
       "30. 25.9\n",
       "31. 21.6\n",
       "32. 26\n",
       "33. 12.8\n",
       "34. 34.2\n",
       "35. 19.4\n",
       "36. 21.9\n",
       "37. 19.3\n",
       "38. 26.2\n",
       "39. 9.6\n",
       "40. 36.1\n",
       "41. 19.7\n",
       "42. 19.2\n",
       "43. 20.4\n",
       "44. 23.1\n",
       "45. 23.8\n",
       "46. 21.6\n",
       "47. 25.4\n",
       "48. 18.4\n",
       "49. 18.6\n",
       "50. 26.4\n",
       "51. 25.7\n",
       "52. 20.4\n",
       "53. 15.9\n",
       "54. 20.8\n",
       "55. 20.9\n",
       "56. 15.7\n",
       "57. 20.4\n",
       "58. 14.1\n",
       "59. 21.4\n",
       "60. 15.6\n",
       "61. 30.5\n",
       "62. 15.4\n",
       "63. 19.2\n",
       "64. 22.6\n",
       "65. 15.2\n",
       "66. 14.9\n",
       "67. 39.5\n",
       "68. 17.3\n",
       "69. 17.2\n",
       "70. 13.8\n",
       "71. 17.7\n",
       "72. 15.6\n",
       "73. 20.4\n",
       "74. 14.8\n",
       "75. 19.5\n",
       "76. 18\n",
       "77. 22.5\n",
       "78. 20.4\n",
       "79. 13.1\n",
       "80. 17.4\n",
       "81. 18.9\n",
       "82. 16.1\n",
       "83. 21.9\n",
       "84. 18.4\n",
       "85. 15.2\n",
       "86. 19.1\n",
       "87. 15.1\n",
       "88. 17.2\n",
       "89. 18.4\n",
       "90. 24.1\n",
       "91. 19\n",
       "92. 16\n",
       "93. 21.8\n",
       "94. 16.5\n",
       "95. 16.2\n",
       "96. 10.8\n",
       "97. 27\n",
       "98. 17.3\n",
       "99. 18.3\n",
       "100. 18.3\n",
       "101. 13.3\n",
       "102. 12.1\n",
       "103. 11\n",
       "104. 12.7\n",
       "105. 13.4\n",
       "106. 14.3\n",
       "107. 11.5\n",
       "108. 16.5\n",
       "109. 25.1\n",
       "110. 16.3\n",
       "111. 15.4\n",
       "112. 18.6\n",
       "113. 18.3\n",
       "114. 13.2\n",
       "115. 11.1\n",
       "116. 11\n",
       "117. 12.5\n",
       "118. 14.8\n",
       "119. 16.8\n",
       "120. 12.8\n",
       "121. 12.2\n",
       "122. 14.7\n",
       "123. 9.7\n",
       "124. 14.2\n",
       "125. 13.9\n",
       "126. 9.5\n",
       "127. 14.6\n",
       "128. 12.1\n",
       "129. 10.6\n",
       "130. 10.8\n",
       "131. 10.4\n",
       "132. 9.9\n",
       "133. 9.6\n",
       "134. 21.7\n",
       "135. 11.8\n",
       "136. 11.8\n",
       "137. 13\n",
       "138. 11.3\n",
       "139. 9\n",
       "140. 18.3\n",
       "141. 14.6\n",
       "142. 11.5\n",
       "143. 7.3\n",
       "144. 11.6\n",
       "145. 8.6\n",
       "146. 11.5\n",
       "147. 8.3\n",
       "148. 10.3\n",
       "149. 12.5\n",
       "150. 13.2\n",
       "151. 17.9\n",
       "152. 10.7\n",
       "153. 8.6\n",
       "154. 12.5\n",
       "155. 8.6\n",
       "156. 6\n",
       "157. 12.6\n",
       "158. 12.7\n",
       "159. 10.2\n",
       "160. 10.7\n",
       "161. 8.4\n",
       "162. 9.9\n",
       "163. 7.7\n",
       "164. 13.6\n",
       "165. 12.3\n",
       "166. 7.5\n",
       "167. 11.8\n",
       "168. 7.7\n",
       "169. 10.3\n",
       "170. 16.9\n",
       "171. 8.5\n",
       "172. 9.7\n",
       "173. 10.6\n",
       "174. 6.4\n",
       "175. 8.8\n",
       "176. 8.8\n",
       "177. 9.6\n",
       "178. 6.6\n",
       "179. 7.9\n",
       "180. 6.3\n",
       "181. 13.1\n",
       "182. 7.8\n",
       "183. 8.7\n",
       "184. 9.2\n",
       "185. 9.2\n",
       "186. 8.4\n",
       "187. 10.5\n",
       "188. 8.6\n",
       "189. 8.7\n",
       "190. 8\n",
       "191. 11.1\n",
       "192. 7.5\n",
       "193. 7.6\n",
       "194. 8.7\n",
       "195. 8.8\n",
       "196. 11.4\n",
       "197. 6.6\n",
       "198. 10.6\n",
       "199. 5.5\n",
       "200. 8.7\n",
       "201. 6.8\n",
       "202. 9.7\n",
       "203. 6.8\n",
       "204. 5.7\n",
       "205. 8.5\n",
       "206. 5.5\n",
       "207. 8.4\n",
       "208. 8.7\n",
       "209. 9.8\n",
       "210. 7.7\n",
       "211. 6.8\n",
       "212. 6.6\n",
       "213. 7\n",
       "214. 6.3\n",
       "215. 6.8\n",
       "216. 8.8\n",
       "217. 10.3\n",
       "218. 8\n",
       "219. 1.8\n",
       "220. 13.4\n",
       "221. 6.8\n",
       "222. 5.7\n",
       "223. 7.1\n",
       "224. 6.7\n",
       "225. 6.5\n",
       "226. 7.7\n",
       "227. 5.8\n",
       "228. 6.4\n",
       "229. 6.5\n",
       "230. 4.1\n",
       "231. 8\n",
       "232. 6.8\n",
       "233. 6.4\n",
       "234. 8.3\n",
       "235. 7.3\n",
       "236. 5.6\n",
       "237. 5.1\n",
       "238. 6.9\n",
       "239. 7.7\n",
       "240. 5.4\n",
       "241. 5.9\n",
       "242. 5\n",
       "243. 5.2\n",
       "244. 6.1\n",
       "245. 6.3\n",
       "246. 6.3\n",
       "247. 7.1\n",
       "248. 7.4\n",
       "249. 5\n",
       "250. 5.9\n",
       "251. 6\n",
       "252. 4.8\n",
       "253. 9.9\n",
       "254. 5.4\n",
       "255. 5\n",
       "256. 6.1\n",
       "257. 13.8\n",
       "258. 6.2\n",
       "259. 5.5\n",
       "260. 5.5\n",
       "261. 11.7\n",
       "262. 5.9\n",
       "263. 9.8\n",
       "264. 6.1\n",
       "265. 7.5\n",
       "266. 4.1\n",
       "267. 7.7\n",
       "268. 8.1\n",
       "269. 4.5\n",
       "270. 5.8\n",
       "271. 5.4\n",
       "272. 5.7\n",
       "273. 3.1\n",
       "274. 6.4\n",
       "275. 7\n",
       "276. 5.7\n",
       "277. 3.9\n",
       "278. 9.4\n",
       "279. 4.4\n",
       "280. 5\n",
       "281. 15.9\n",
       "282. 3.7\n",
       "283. 9.1\n",
       "284. 4.7\n",
       "285. 3.6\n",
       "286. 3.7\n",
       "287. 4.1\n",
       "288. 7.9\n",
       "289. 3.3\n",
       "290. 6.6\n",
       "291. 1.9\n",
       "292. 3\n",
       "293. 5.7\n",
       "294. 3.2\n",
       "295. 3.8\n",
       "296. 5.3\n",
       "297. 3.2\n",
       "298. 4.2\n",
       "299. 6\n",
       "300. 9.7\n",
       "301. 3.4\n",
       "302. 3.2\n",
       "303. 2.5\n",
       "304. 2\n",
       "305. 4\n",
       "306. 4.3\n",
       "307. 2.8\n",
       "308. 2.2\n",
       "309. 4.7\n",
       "310. 2.5\n",
       "311. 2.2\n",
       "312. 2.2\n",
       "313. 1.9\n",
       "314. 9.3\n",
       "\n",
       "\n"
      ],
      "text/plain": [
       "  [1] 23.0 23.8 16.9 18.6 17.9 25.9 16.5 26.3 26.9 17.9 29.1 32.6 41.9 38.7 37.6\n",
       " [16] 46.4 30.5 34.8 26.7 33.0 56.3 33.5 29.7 32.8 27.6 31.9 55.4 33.3 36.4 25.9\n",
       " [31] 21.6 26.0 12.8 34.2 19.4 21.9 19.3 26.2  9.6 36.1 19.7 19.2 20.4 23.1 23.8\n",
       " [46] 21.6 25.4 18.4 18.6 26.4 25.7 20.4 15.9 20.8 20.9 15.7 20.4 14.1 21.4 15.6\n",
       " [61] 30.5 15.4 19.2 22.6 15.2 14.9 39.5 17.3 17.2 13.8 17.7 15.6 20.4 14.8 19.5\n",
       " [76] 18.0 22.5 20.4 13.1 17.4 18.9 16.1 21.9 18.4 15.2 19.1 15.1 17.2 18.4 24.1\n",
       " [91] 19.0 16.0 21.8 16.5 16.2 10.8 27.0 17.3 18.3 18.3 13.3 12.1 11.0 12.7 13.4\n",
       "[106] 14.3 11.5 16.5 25.1 16.3 15.4 18.6 18.3 13.2 11.1 11.0 12.5 14.8 16.8 12.8\n",
       "[121] 12.2 14.7  9.7 14.2 13.9  9.5 14.6 12.1 10.6 10.8 10.4  9.9  9.6 21.7 11.8\n",
       "[136] 11.8 13.0 11.3  9.0 18.3 14.6 11.5  7.3 11.6  8.6 11.5  8.3 10.3 12.5 13.2\n",
       "[151] 17.9 10.7  8.6 12.5  8.6  6.0 12.6 12.7 10.2 10.7  8.4  9.9  7.7 13.6 12.3\n",
       "[166]  7.5 11.8  7.7 10.3 16.9  8.5  9.7 10.6  6.4  8.8  8.8  9.6  6.6  7.9  6.3\n",
       "[181] 13.1  7.8  8.7  9.2  9.2  8.4 10.5  8.6  8.7  8.0 11.1  7.5  7.6  8.7  8.8\n",
       "[196] 11.4  6.6 10.6  5.5  8.7  6.8  9.7  6.8  5.7  8.5  5.5  8.4  8.7  9.8  7.7\n",
       "[211]  6.8  6.6  7.0  6.3  6.8  8.8 10.3  8.0  1.8 13.4  6.8  5.7  7.1  6.7  6.5\n",
       "[226]  7.7  5.8  6.4  6.5  4.1  8.0  6.8  6.4  8.3  7.3  5.6  5.1  6.9  7.7  5.4\n",
       "[241]  5.9  5.0  5.2  6.1  6.3  6.3  7.1  7.4  5.0  5.9  6.0  4.8  9.9  5.4  5.0\n",
       "[256]  6.1 13.8  6.2  5.5  5.5 11.7  5.9  9.8  6.1  7.5  4.1  7.7  8.1  4.5  5.8\n",
       "[271]  5.4  5.7  3.1  6.4  7.0  5.7  3.9  9.4  4.4  5.0 15.9  3.7  9.1  4.7  3.6\n",
       "[286]  3.7  4.1  7.9  3.3  6.6  1.9  3.0  5.7  3.2  3.8  5.3  3.2  4.2  6.0  9.7\n",
       "[301]  3.4  3.2  2.5  2.0  4.0  4.3  2.8  2.2  4.7  2.5  2.2  2.2  1.9  9.3"
      ]
     },
     "metadata": {},
     "output_type": "display_data"
    }
   ],
   "source": [
    "d[,2]"
   ]
  },
  {
   "cell_type": "markdown",
   "metadata": {},
   "source": [
    "Because R considers this objects a dataframe, there are column names for each column.\n",
    "We can ask R for the column names like this"
   ]
  },
  {
   "cell_type": "code",
   "execution_count": 68,
   "metadata": {},
   "outputs": [
    {
     "data": {
      "text/html": [
       "<style>\n",
       ".list-inline {list-style: none; margin:0; padding: 0}\n",
       ".list-inline>li {display: inline-block}\n",
       ".list-inline>li:not(:last-child)::after {content: \"\\00b7\"; padding: 0 .5ex}\n",
       "</style>\n",
       "<ol class=list-inline><li>'Age'</li><li>'GAG'</li></ol>\n"
      ],
      "text/latex": [
       "\\begin{enumerate*}\n",
       "\\item 'Age'\n",
       "\\item 'GAG'\n",
       "\\end{enumerate*}\n"
      ],
      "text/markdown": [
       "1. 'Age'\n",
       "2. 'GAG'\n",
       "\n",
       "\n"
      ],
      "text/plain": [
       "[1] \"Age\" \"GAG\""
      ]
     },
     "metadata": {},
     "output_type": "display_data"
    }
   ],
   "source": [
    "colnames(d)"
   ]
  },
  {
   "cell_type": "markdown",
   "metadata": {},
   "source": [
    "and refer to columns by typing the name of the dataframe, a dollar sign, and the name of the column we want"
   ]
  },
  {
   "cell_type": "code",
   "execution_count": 69,
   "metadata": {},
   "outputs": [
    {
     "data": {
      "text/html": [
       "<style>\n",
       ".list-inline {list-style: none; margin:0; padding: 0}\n",
       ".list-inline>li {display: inline-block}\n",
       ".list-inline>li:not(:last-child)::after {content: \"\\00b7\"; padding: 0 .5ex}\n",
       "</style>\n",
       "<ol class=list-inline><li>23</li><li>23.8</li><li>16.9</li><li>18.6</li><li>17.9</li><li>25.9</li><li>16.5</li><li>26.3</li><li>26.9</li><li>17.9</li><li>29.1</li><li>32.6</li><li>41.9</li><li>38.7</li><li>37.6</li><li>46.4</li><li>30.5</li><li>34.8</li><li>26.7</li><li>33</li><li>56.3</li><li>33.5</li><li>29.7</li><li>32.8</li><li>27.6</li><li>31.9</li><li>55.4</li><li>33.3</li><li>36.4</li><li>25.9</li><li>21.6</li><li>26</li><li>12.8</li><li>34.2</li><li>19.4</li><li>21.9</li><li>19.3</li><li>26.2</li><li>9.6</li><li>36.1</li><li>19.7</li><li>19.2</li><li>20.4</li><li>23.1</li><li>23.8</li><li>21.6</li><li>25.4</li><li>18.4</li><li>18.6</li><li>26.4</li><li>25.7</li><li>20.4</li><li>15.9</li><li>20.8</li><li>20.9</li><li>15.7</li><li>20.4</li><li>14.1</li><li>21.4</li><li>15.6</li><li>30.5</li><li>15.4</li><li>19.2</li><li>22.6</li><li>15.2</li><li>14.9</li><li>39.5</li><li>17.3</li><li>17.2</li><li>13.8</li><li>17.7</li><li>15.6</li><li>20.4</li><li>14.8</li><li>19.5</li><li>18</li><li>22.5</li><li>20.4</li><li>13.1</li><li>17.4</li><li>18.9</li><li>16.1</li><li>21.9</li><li>18.4</li><li>15.2</li><li>19.1</li><li>15.1</li><li>17.2</li><li>18.4</li><li>24.1</li><li>19</li><li>16</li><li>21.8</li><li>16.5</li><li>16.2</li><li>10.8</li><li>27</li><li>17.3</li><li>18.3</li><li>18.3</li><li>13.3</li><li>12.1</li><li>11</li><li>12.7</li><li>13.4</li><li>14.3</li><li>11.5</li><li>16.5</li><li>25.1</li><li>16.3</li><li>15.4</li><li>18.6</li><li>18.3</li><li>13.2</li><li>11.1</li><li>11</li><li>12.5</li><li>14.8</li><li>16.8</li><li>12.8</li><li>12.2</li><li>14.7</li><li>9.7</li><li>14.2</li><li>13.9</li><li>9.5</li><li>14.6</li><li>12.1</li><li>10.6</li><li>10.8</li><li>10.4</li><li>9.9</li><li>9.6</li><li>21.7</li><li>11.8</li><li>11.8</li><li>13</li><li>11.3</li><li>9</li><li>18.3</li><li>14.6</li><li>11.5</li><li>7.3</li><li>11.6</li><li>8.6</li><li>11.5</li><li>8.3</li><li>10.3</li><li>12.5</li><li>13.2</li><li>17.9</li><li>10.7</li><li>8.6</li><li>12.5</li><li>8.6</li><li>6</li><li>12.6</li><li>12.7</li><li>10.2</li><li>10.7</li><li>8.4</li><li>9.9</li><li>7.7</li><li>13.6</li><li>12.3</li><li>7.5</li><li>11.8</li><li>7.7</li><li>10.3</li><li>16.9</li><li>8.5</li><li>9.7</li><li>10.6</li><li>6.4</li><li>8.8</li><li>8.8</li><li>9.6</li><li>6.6</li><li>7.9</li><li>6.3</li><li>13.1</li><li>7.8</li><li>8.7</li><li>9.2</li><li>9.2</li><li>8.4</li><li>10.5</li><li>8.6</li><li>8.7</li><li>8</li><li>11.1</li><li>7.5</li><li>7.6</li><li>8.7</li><li>8.8</li><li>11.4</li><li>6.6</li><li>10.6</li><li>5.5</li><li>8.7</li><li>6.8</li><li>9.7</li><li>6.8</li><li>5.7</li><li>8.5</li><li>5.5</li><li>8.4</li><li>8.7</li><li>9.8</li><li>7.7</li><li>6.8</li><li>6.6</li><li>7</li><li>6.3</li><li>6.8</li><li>8.8</li><li>10.3</li><li>8</li><li>1.8</li><li>13.4</li><li>6.8</li><li>5.7</li><li>7.1</li><li>6.7</li><li>6.5</li><li>7.7</li><li>5.8</li><li>6.4</li><li>6.5</li><li>4.1</li><li>8</li><li>6.8</li><li>6.4</li><li>8.3</li><li>7.3</li><li>5.6</li><li>5.1</li><li>6.9</li><li>7.7</li><li>5.4</li><li>5.9</li><li>5</li><li>5.2</li><li>6.1</li><li>6.3</li><li>6.3</li><li>7.1</li><li>7.4</li><li>5</li><li>5.9</li><li>6</li><li>4.8</li><li>9.9</li><li>5.4</li><li>5</li><li>6.1</li><li>13.8</li><li>6.2</li><li>5.5</li><li>5.5</li><li>11.7</li><li>5.9</li><li>9.8</li><li>6.1</li><li>7.5</li><li>4.1</li><li>7.7</li><li>8.1</li><li>4.5</li><li>5.8</li><li>5.4</li><li>5.7</li><li>3.1</li><li>6.4</li><li>7</li><li>5.7</li><li>3.9</li><li>9.4</li><li>4.4</li><li>5</li><li>15.9</li><li>3.7</li><li>9.1</li><li>4.7</li><li>3.6</li><li>3.7</li><li>4.1</li><li>7.9</li><li>3.3</li><li>6.6</li><li>1.9</li><li>3</li><li>5.7</li><li>3.2</li><li>3.8</li><li>5.3</li><li>3.2</li><li>4.2</li><li>6</li><li>9.7</li><li>3.4</li><li>3.2</li><li>2.5</li><li>2</li><li>4</li><li>4.3</li><li>2.8</li><li>2.2</li><li>4.7</li><li>2.5</li><li>2.2</li><li>2.2</li><li>1.9</li><li>9.3</li></ol>\n"
      ],
      "text/latex": [
       "\\begin{enumerate*}\n",
       "\\item 23\n",
       "\\item 23.8\n",
       "\\item 16.9\n",
       "\\item 18.6\n",
       "\\item 17.9\n",
       "\\item 25.9\n",
       "\\item 16.5\n",
       "\\item 26.3\n",
       "\\item 26.9\n",
       "\\item 17.9\n",
       "\\item 29.1\n",
       "\\item 32.6\n",
       "\\item 41.9\n",
       "\\item 38.7\n",
       "\\item 37.6\n",
       "\\item 46.4\n",
       "\\item 30.5\n",
       "\\item 34.8\n",
       "\\item 26.7\n",
       "\\item 33\n",
       "\\item 56.3\n",
       "\\item 33.5\n",
       "\\item 29.7\n",
       "\\item 32.8\n",
       "\\item 27.6\n",
       "\\item 31.9\n",
       "\\item 55.4\n",
       "\\item 33.3\n",
       "\\item 36.4\n",
       "\\item 25.9\n",
       "\\item 21.6\n",
       "\\item 26\n",
       "\\item 12.8\n",
       "\\item 34.2\n",
       "\\item 19.4\n",
       "\\item 21.9\n",
       "\\item 19.3\n",
       "\\item 26.2\n",
       "\\item 9.6\n",
       "\\item 36.1\n",
       "\\item 19.7\n",
       "\\item 19.2\n",
       "\\item 20.4\n",
       "\\item 23.1\n",
       "\\item 23.8\n",
       "\\item 21.6\n",
       "\\item 25.4\n",
       "\\item 18.4\n",
       "\\item 18.6\n",
       "\\item 26.4\n",
       "\\item 25.7\n",
       "\\item 20.4\n",
       "\\item 15.9\n",
       "\\item 20.8\n",
       "\\item 20.9\n",
       "\\item 15.7\n",
       "\\item 20.4\n",
       "\\item 14.1\n",
       "\\item 21.4\n",
       "\\item 15.6\n",
       "\\item 30.5\n",
       "\\item 15.4\n",
       "\\item 19.2\n",
       "\\item 22.6\n",
       "\\item 15.2\n",
       "\\item 14.9\n",
       "\\item 39.5\n",
       "\\item 17.3\n",
       "\\item 17.2\n",
       "\\item 13.8\n",
       "\\item 17.7\n",
       "\\item 15.6\n",
       "\\item 20.4\n",
       "\\item 14.8\n",
       "\\item 19.5\n",
       "\\item 18\n",
       "\\item 22.5\n",
       "\\item 20.4\n",
       "\\item 13.1\n",
       "\\item 17.4\n",
       "\\item 18.9\n",
       "\\item 16.1\n",
       "\\item 21.9\n",
       "\\item 18.4\n",
       "\\item 15.2\n",
       "\\item 19.1\n",
       "\\item 15.1\n",
       "\\item 17.2\n",
       "\\item 18.4\n",
       "\\item 24.1\n",
       "\\item 19\n",
       "\\item 16\n",
       "\\item 21.8\n",
       "\\item 16.5\n",
       "\\item 16.2\n",
       "\\item 10.8\n",
       "\\item 27\n",
       "\\item 17.3\n",
       "\\item 18.3\n",
       "\\item 18.3\n",
       "\\item 13.3\n",
       "\\item 12.1\n",
       "\\item 11\n",
       "\\item 12.7\n",
       "\\item 13.4\n",
       "\\item 14.3\n",
       "\\item 11.5\n",
       "\\item 16.5\n",
       "\\item 25.1\n",
       "\\item 16.3\n",
       "\\item 15.4\n",
       "\\item 18.6\n",
       "\\item 18.3\n",
       "\\item 13.2\n",
       "\\item 11.1\n",
       "\\item 11\n",
       "\\item 12.5\n",
       "\\item 14.8\n",
       "\\item 16.8\n",
       "\\item 12.8\n",
       "\\item 12.2\n",
       "\\item 14.7\n",
       "\\item 9.7\n",
       "\\item 14.2\n",
       "\\item 13.9\n",
       "\\item 9.5\n",
       "\\item 14.6\n",
       "\\item 12.1\n",
       "\\item 10.6\n",
       "\\item 10.8\n",
       "\\item 10.4\n",
       "\\item 9.9\n",
       "\\item 9.6\n",
       "\\item 21.7\n",
       "\\item 11.8\n",
       "\\item 11.8\n",
       "\\item 13\n",
       "\\item 11.3\n",
       "\\item 9\n",
       "\\item 18.3\n",
       "\\item 14.6\n",
       "\\item 11.5\n",
       "\\item 7.3\n",
       "\\item 11.6\n",
       "\\item 8.6\n",
       "\\item 11.5\n",
       "\\item 8.3\n",
       "\\item 10.3\n",
       "\\item 12.5\n",
       "\\item 13.2\n",
       "\\item 17.9\n",
       "\\item 10.7\n",
       "\\item 8.6\n",
       "\\item 12.5\n",
       "\\item 8.6\n",
       "\\item 6\n",
       "\\item 12.6\n",
       "\\item 12.7\n",
       "\\item 10.2\n",
       "\\item 10.7\n",
       "\\item 8.4\n",
       "\\item 9.9\n",
       "\\item 7.7\n",
       "\\item 13.6\n",
       "\\item 12.3\n",
       "\\item 7.5\n",
       "\\item 11.8\n",
       "\\item 7.7\n",
       "\\item 10.3\n",
       "\\item 16.9\n",
       "\\item 8.5\n",
       "\\item 9.7\n",
       "\\item 10.6\n",
       "\\item 6.4\n",
       "\\item 8.8\n",
       "\\item 8.8\n",
       "\\item 9.6\n",
       "\\item 6.6\n",
       "\\item 7.9\n",
       "\\item 6.3\n",
       "\\item 13.1\n",
       "\\item 7.8\n",
       "\\item 8.7\n",
       "\\item 9.2\n",
       "\\item 9.2\n",
       "\\item 8.4\n",
       "\\item 10.5\n",
       "\\item 8.6\n",
       "\\item 8.7\n",
       "\\item 8\n",
       "\\item 11.1\n",
       "\\item 7.5\n",
       "\\item 7.6\n",
       "\\item 8.7\n",
       "\\item 8.8\n",
       "\\item 11.4\n",
       "\\item 6.6\n",
       "\\item 10.6\n",
       "\\item 5.5\n",
       "\\item 8.7\n",
       "\\item 6.8\n",
       "\\item 9.7\n",
       "\\item 6.8\n",
       "\\item 5.7\n",
       "\\item 8.5\n",
       "\\item 5.5\n",
       "\\item 8.4\n",
       "\\item 8.7\n",
       "\\item 9.8\n",
       "\\item 7.7\n",
       "\\item 6.8\n",
       "\\item 6.6\n",
       "\\item 7\n",
       "\\item 6.3\n",
       "\\item 6.8\n",
       "\\item 8.8\n",
       "\\item 10.3\n",
       "\\item 8\n",
       "\\item 1.8\n",
       "\\item 13.4\n",
       "\\item 6.8\n",
       "\\item 5.7\n",
       "\\item 7.1\n",
       "\\item 6.7\n",
       "\\item 6.5\n",
       "\\item 7.7\n",
       "\\item 5.8\n",
       "\\item 6.4\n",
       "\\item 6.5\n",
       "\\item 4.1\n",
       "\\item 8\n",
       "\\item 6.8\n",
       "\\item 6.4\n",
       "\\item 8.3\n",
       "\\item 7.3\n",
       "\\item 5.6\n",
       "\\item 5.1\n",
       "\\item 6.9\n",
       "\\item 7.7\n",
       "\\item 5.4\n",
       "\\item 5.9\n",
       "\\item 5\n",
       "\\item 5.2\n",
       "\\item 6.1\n",
       "\\item 6.3\n",
       "\\item 6.3\n",
       "\\item 7.1\n",
       "\\item 7.4\n",
       "\\item 5\n",
       "\\item 5.9\n",
       "\\item 6\n",
       "\\item 4.8\n",
       "\\item 9.9\n",
       "\\item 5.4\n",
       "\\item 5\n",
       "\\item 6.1\n",
       "\\item 13.8\n",
       "\\item 6.2\n",
       "\\item 5.5\n",
       "\\item 5.5\n",
       "\\item 11.7\n",
       "\\item 5.9\n",
       "\\item 9.8\n",
       "\\item 6.1\n",
       "\\item 7.5\n",
       "\\item 4.1\n",
       "\\item 7.7\n",
       "\\item 8.1\n",
       "\\item 4.5\n",
       "\\item 5.8\n",
       "\\item 5.4\n",
       "\\item 5.7\n",
       "\\item 3.1\n",
       "\\item 6.4\n",
       "\\item 7\n",
       "\\item 5.7\n",
       "\\item 3.9\n",
       "\\item 9.4\n",
       "\\item 4.4\n",
       "\\item 5\n",
       "\\item 15.9\n",
       "\\item 3.7\n",
       "\\item 9.1\n",
       "\\item 4.7\n",
       "\\item 3.6\n",
       "\\item 3.7\n",
       "\\item 4.1\n",
       "\\item 7.9\n",
       "\\item 3.3\n",
       "\\item 6.6\n",
       "\\item 1.9\n",
       "\\item 3\n",
       "\\item 5.7\n",
       "\\item 3.2\n",
       "\\item 3.8\n",
       "\\item 5.3\n",
       "\\item 3.2\n",
       "\\item 4.2\n",
       "\\item 6\n",
       "\\item 9.7\n",
       "\\item 3.4\n",
       "\\item 3.2\n",
       "\\item 2.5\n",
       "\\item 2\n",
       "\\item 4\n",
       "\\item 4.3\n",
       "\\item 2.8\n",
       "\\item 2.2\n",
       "\\item 4.7\n",
       "\\item 2.5\n",
       "\\item 2.2\n",
       "\\item 2.2\n",
       "\\item 1.9\n",
       "\\item 9.3\n",
       "\\end{enumerate*}\n"
      ],
      "text/markdown": [
       "1. 23\n",
       "2. 23.8\n",
       "3. 16.9\n",
       "4. 18.6\n",
       "5. 17.9\n",
       "6. 25.9\n",
       "7. 16.5\n",
       "8. 26.3\n",
       "9. 26.9\n",
       "10. 17.9\n",
       "11. 29.1\n",
       "12. 32.6\n",
       "13. 41.9\n",
       "14. 38.7\n",
       "15. 37.6\n",
       "16. 46.4\n",
       "17. 30.5\n",
       "18. 34.8\n",
       "19. 26.7\n",
       "20. 33\n",
       "21. 56.3\n",
       "22. 33.5\n",
       "23. 29.7\n",
       "24. 32.8\n",
       "25. 27.6\n",
       "26. 31.9\n",
       "27. 55.4\n",
       "28. 33.3\n",
       "29. 36.4\n",
       "30. 25.9\n",
       "31. 21.6\n",
       "32. 26\n",
       "33. 12.8\n",
       "34. 34.2\n",
       "35. 19.4\n",
       "36. 21.9\n",
       "37. 19.3\n",
       "38. 26.2\n",
       "39. 9.6\n",
       "40. 36.1\n",
       "41. 19.7\n",
       "42. 19.2\n",
       "43. 20.4\n",
       "44. 23.1\n",
       "45. 23.8\n",
       "46. 21.6\n",
       "47. 25.4\n",
       "48. 18.4\n",
       "49. 18.6\n",
       "50. 26.4\n",
       "51. 25.7\n",
       "52. 20.4\n",
       "53. 15.9\n",
       "54. 20.8\n",
       "55. 20.9\n",
       "56. 15.7\n",
       "57. 20.4\n",
       "58. 14.1\n",
       "59. 21.4\n",
       "60. 15.6\n",
       "61. 30.5\n",
       "62. 15.4\n",
       "63. 19.2\n",
       "64. 22.6\n",
       "65. 15.2\n",
       "66. 14.9\n",
       "67. 39.5\n",
       "68. 17.3\n",
       "69. 17.2\n",
       "70. 13.8\n",
       "71. 17.7\n",
       "72. 15.6\n",
       "73. 20.4\n",
       "74. 14.8\n",
       "75. 19.5\n",
       "76. 18\n",
       "77. 22.5\n",
       "78. 20.4\n",
       "79. 13.1\n",
       "80. 17.4\n",
       "81. 18.9\n",
       "82. 16.1\n",
       "83. 21.9\n",
       "84. 18.4\n",
       "85. 15.2\n",
       "86. 19.1\n",
       "87. 15.1\n",
       "88. 17.2\n",
       "89. 18.4\n",
       "90. 24.1\n",
       "91. 19\n",
       "92. 16\n",
       "93. 21.8\n",
       "94. 16.5\n",
       "95. 16.2\n",
       "96. 10.8\n",
       "97. 27\n",
       "98. 17.3\n",
       "99. 18.3\n",
       "100. 18.3\n",
       "101. 13.3\n",
       "102. 12.1\n",
       "103. 11\n",
       "104. 12.7\n",
       "105. 13.4\n",
       "106. 14.3\n",
       "107. 11.5\n",
       "108. 16.5\n",
       "109. 25.1\n",
       "110. 16.3\n",
       "111. 15.4\n",
       "112. 18.6\n",
       "113. 18.3\n",
       "114. 13.2\n",
       "115. 11.1\n",
       "116. 11\n",
       "117. 12.5\n",
       "118. 14.8\n",
       "119. 16.8\n",
       "120. 12.8\n",
       "121. 12.2\n",
       "122. 14.7\n",
       "123. 9.7\n",
       "124. 14.2\n",
       "125. 13.9\n",
       "126. 9.5\n",
       "127. 14.6\n",
       "128. 12.1\n",
       "129. 10.6\n",
       "130. 10.8\n",
       "131. 10.4\n",
       "132. 9.9\n",
       "133. 9.6\n",
       "134. 21.7\n",
       "135. 11.8\n",
       "136. 11.8\n",
       "137. 13\n",
       "138. 11.3\n",
       "139. 9\n",
       "140. 18.3\n",
       "141. 14.6\n",
       "142. 11.5\n",
       "143. 7.3\n",
       "144. 11.6\n",
       "145. 8.6\n",
       "146. 11.5\n",
       "147. 8.3\n",
       "148. 10.3\n",
       "149. 12.5\n",
       "150. 13.2\n",
       "151. 17.9\n",
       "152. 10.7\n",
       "153. 8.6\n",
       "154. 12.5\n",
       "155. 8.6\n",
       "156. 6\n",
       "157. 12.6\n",
       "158. 12.7\n",
       "159. 10.2\n",
       "160. 10.7\n",
       "161. 8.4\n",
       "162. 9.9\n",
       "163. 7.7\n",
       "164. 13.6\n",
       "165. 12.3\n",
       "166. 7.5\n",
       "167. 11.8\n",
       "168. 7.7\n",
       "169. 10.3\n",
       "170. 16.9\n",
       "171. 8.5\n",
       "172. 9.7\n",
       "173. 10.6\n",
       "174. 6.4\n",
       "175. 8.8\n",
       "176. 8.8\n",
       "177. 9.6\n",
       "178. 6.6\n",
       "179. 7.9\n",
       "180. 6.3\n",
       "181. 13.1\n",
       "182. 7.8\n",
       "183. 8.7\n",
       "184. 9.2\n",
       "185. 9.2\n",
       "186. 8.4\n",
       "187. 10.5\n",
       "188. 8.6\n",
       "189. 8.7\n",
       "190. 8\n",
       "191. 11.1\n",
       "192. 7.5\n",
       "193. 7.6\n",
       "194. 8.7\n",
       "195. 8.8\n",
       "196. 11.4\n",
       "197. 6.6\n",
       "198. 10.6\n",
       "199. 5.5\n",
       "200. 8.7\n",
       "201. 6.8\n",
       "202. 9.7\n",
       "203. 6.8\n",
       "204. 5.7\n",
       "205. 8.5\n",
       "206. 5.5\n",
       "207. 8.4\n",
       "208. 8.7\n",
       "209. 9.8\n",
       "210. 7.7\n",
       "211. 6.8\n",
       "212. 6.6\n",
       "213. 7\n",
       "214. 6.3\n",
       "215. 6.8\n",
       "216. 8.8\n",
       "217. 10.3\n",
       "218. 8\n",
       "219. 1.8\n",
       "220. 13.4\n",
       "221. 6.8\n",
       "222. 5.7\n",
       "223. 7.1\n",
       "224. 6.7\n",
       "225. 6.5\n",
       "226. 7.7\n",
       "227. 5.8\n",
       "228. 6.4\n",
       "229. 6.5\n",
       "230. 4.1\n",
       "231. 8\n",
       "232. 6.8\n",
       "233. 6.4\n",
       "234. 8.3\n",
       "235. 7.3\n",
       "236. 5.6\n",
       "237. 5.1\n",
       "238. 6.9\n",
       "239. 7.7\n",
       "240. 5.4\n",
       "241. 5.9\n",
       "242. 5\n",
       "243. 5.2\n",
       "244. 6.1\n",
       "245. 6.3\n",
       "246. 6.3\n",
       "247. 7.1\n",
       "248. 7.4\n",
       "249. 5\n",
       "250. 5.9\n",
       "251. 6\n",
       "252. 4.8\n",
       "253. 9.9\n",
       "254. 5.4\n",
       "255. 5\n",
       "256. 6.1\n",
       "257. 13.8\n",
       "258. 6.2\n",
       "259. 5.5\n",
       "260. 5.5\n",
       "261. 11.7\n",
       "262. 5.9\n",
       "263. 9.8\n",
       "264. 6.1\n",
       "265. 7.5\n",
       "266. 4.1\n",
       "267. 7.7\n",
       "268. 8.1\n",
       "269. 4.5\n",
       "270. 5.8\n",
       "271. 5.4\n",
       "272. 5.7\n",
       "273. 3.1\n",
       "274. 6.4\n",
       "275. 7\n",
       "276. 5.7\n",
       "277. 3.9\n",
       "278. 9.4\n",
       "279. 4.4\n",
       "280. 5\n",
       "281. 15.9\n",
       "282. 3.7\n",
       "283. 9.1\n",
       "284. 4.7\n",
       "285. 3.6\n",
       "286. 3.7\n",
       "287. 4.1\n",
       "288. 7.9\n",
       "289. 3.3\n",
       "290. 6.6\n",
       "291. 1.9\n",
       "292. 3\n",
       "293. 5.7\n",
       "294. 3.2\n",
       "295. 3.8\n",
       "296. 5.3\n",
       "297. 3.2\n",
       "298. 4.2\n",
       "299. 6\n",
       "300. 9.7\n",
       "301. 3.4\n",
       "302. 3.2\n",
       "303. 2.5\n",
       "304. 2\n",
       "305. 4\n",
       "306. 4.3\n",
       "307. 2.8\n",
       "308. 2.2\n",
       "309. 4.7\n",
       "310. 2.5\n",
       "311. 2.2\n",
       "312. 2.2\n",
       "313. 1.9\n",
       "314. 9.3\n",
       "\n",
       "\n"
      ],
      "text/plain": [
       "  [1] 23.0 23.8 16.9 18.6 17.9 25.9 16.5 26.3 26.9 17.9 29.1 32.6 41.9 38.7 37.6\n",
       " [16] 46.4 30.5 34.8 26.7 33.0 56.3 33.5 29.7 32.8 27.6 31.9 55.4 33.3 36.4 25.9\n",
       " [31] 21.6 26.0 12.8 34.2 19.4 21.9 19.3 26.2  9.6 36.1 19.7 19.2 20.4 23.1 23.8\n",
       " [46] 21.6 25.4 18.4 18.6 26.4 25.7 20.4 15.9 20.8 20.9 15.7 20.4 14.1 21.4 15.6\n",
       " [61] 30.5 15.4 19.2 22.6 15.2 14.9 39.5 17.3 17.2 13.8 17.7 15.6 20.4 14.8 19.5\n",
       " [76] 18.0 22.5 20.4 13.1 17.4 18.9 16.1 21.9 18.4 15.2 19.1 15.1 17.2 18.4 24.1\n",
       " [91] 19.0 16.0 21.8 16.5 16.2 10.8 27.0 17.3 18.3 18.3 13.3 12.1 11.0 12.7 13.4\n",
       "[106] 14.3 11.5 16.5 25.1 16.3 15.4 18.6 18.3 13.2 11.1 11.0 12.5 14.8 16.8 12.8\n",
       "[121] 12.2 14.7  9.7 14.2 13.9  9.5 14.6 12.1 10.6 10.8 10.4  9.9  9.6 21.7 11.8\n",
       "[136] 11.8 13.0 11.3  9.0 18.3 14.6 11.5  7.3 11.6  8.6 11.5  8.3 10.3 12.5 13.2\n",
       "[151] 17.9 10.7  8.6 12.5  8.6  6.0 12.6 12.7 10.2 10.7  8.4  9.9  7.7 13.6 12.3\n",
       "[166]  7.5 11.8  7.7 10.3 16.9  8.5  9.7 10.6  6.4  8.8  8.8  9.6  6.6  7.9  6.3\n",
       "[181] 13.1  7.8  8.7  9.2  9.2  8.4 10.5  8.6  8.7  8.0 11.1  7.5  7.6  8.7  8.8\n",
       "[196] 11.4  6.6 10.6  5.5  8.7  6.8  9.7  6.8  5.7  8.5  5.5  8.4  8.7  9.8  7.7\n",
       "[211]  6.8  6.6  7.0  6.3  6.8  8.8 10.3  8.0  1.8 13.4  6.8  5.7  7.1  6.7  6.5\n",
       "[226]  7.7  5.8  6.4  6.5  4.1  8.0  6.8  6.4  8.3  7.3  5.6  5.1  6.9  7.7  5.4\n",
       "[241]  5.9  5.0  5.2  6.1  6.3  6.3  7.1  7.4  5.0  5.9  6.0  4.8  9.9  5.4  5.0\n",
       "[256]  6.1 13.8  6.2  5.5  5.5 11.7  5.9  9.8  6.1  7.5  4.1  7.7  8.1  4.5  5.8\n",
       "[271]  5.4  5.7  3.1  6.4  7.0  5.7  3.9  9.4  4.4  5.0 15.9  3.7  9.1  4.7  3.6\n",
       "[286]  3.7  4.1  7.9  3.3  6.6  1.9  3.0  5.7  3.2  3.8  5.3  3.2  4.2  6.0  9.7\n",
       "[301]  3.4  3.2  2.5  2.0  4.0  4.3  2.8  2.2  4.7  2.5  2.2  2.2  1.9  9.3"
      ]
     },
     "metadata": {},
     "output_type": "display_data"
    }
   ],
   "source": [
    "d$GAG"
   ]
  },
  {
   "cell_type": "markdown",
   "metadata": {},
   "source": [
    "Dataframes in R have a lot of built-in functionality. \n",
    "For example, we can call plot on this dataframe to quickly make a scatter plot of age versus GaG level."
   ]
  },
  {
   "cell_type": "code",
   "execution_count": 72,
   "metadata": {},
   "outputs": [
    {
     "data": {
      "image/png": "[encoded data removed]",
      "text/plain": [
       "plot without title"
      ]
     },
     "metadata": {
      "image/png": {
       "height": 420,
       "width": 420
      }
     },
     "output_type": "display_data"
    }
   ],
   "source": [
    "plot(d)"
   ]
  },
  {
   "cell_type": "markdown",
   "metadata": {},
   "source": [
    "### The For loop\n",
    "\n",
    "Just as in Python, R has a for loop. \n",
    "A for loop is built in R using the \n",
    "\n",
    "     for( <variable> in <sequence of values> ){\n",
    "        code\n",
    "     }\n",
    "construct.\n",
    "The simplest example is printing out the numbers from 1 to 10."
   ]
  },
  {
   "cell_type": "code",
   "execution_count": 91,
   "metadata": {},
   "outputs": [
    {
     "name": "stdout",
     "output_type": "stream",
     "text": [
      "[1] 1\n",
      "[1] 2\n",
      "[1] 3\n",
      "[1] 4\n",
      "[1] 5\n",
      "[1] 6\n",
      "[1] 7\n",
      "[1] 8\n",
      "[1] 9\n",
      "[1] 10\n"
     ]
    }
   ],
   "source": [
    "for(i in 1:10){\n",
    "    print(i)\n",
    "}"
   ]
  },
  {
   "cell_type": "markdown",
   "metadata": {},
   "source": [
    "The loop assigns the variable $i$ to each number from 1 to 10 and then executes all the code placed inside the brackets. "
   ]
  },
  {
   "cell_type": "markdown",
   "metadata": {},
   "source": [
    "#### Sequences in R\n",
    "In R, a number $a$ and number $b$ with a colon inbetween is interpreted as a list of numbers starting from $a$, and incrementing by 1 until $b$ (inclusive)."
   ]
  },
  {
   "cell_type": "code",
   "execution_count": 92,
   "metadata": {},
   "outputs": [
    {
     "data": {
      "text/html": [
       "<style>\n",
       ".list-inline {list-style: none; margin:0; padding: 0}\n",
       ".list-inline>li {display: inline-block}\n",
       ".list-inline>li:not(:last-child)::after {content: \"\\00b7\"; padding: 0 .5ex}\n",
       "</style>\n",
       "<ol class=list-inline><li>3</li><li>4</li><li>5</li><li>6</li><li>7</li><li>8</li><li>9</li><li>10</li><li>11</li><li>12</li><li>13</li></ol>\n"
      ],
      "text/latex": [
       "\\begin{enumerate*}\n",
       "\\item 3\n",
       "\\item 4\n",
       "\\item 5\n",
       "\\item 6\n",
       "\\item 7\n",
       "\\item 8\n",
       "\\item 9\n",
       "\\item 10\n",
       "\\item 11\n",
       "\\item 12\n",
       "\\item 13\n",
       "\\end{enumerate*}\n"
      ],
      "text/markdown": [
       "1. 3\n",
       "2. 4\n",
       "3. 5\n",
       "4. 6\n",
       "5. 7\n",
       "6. 8\n",
       "7. 9\n",
       "8. 10\n",
       "9. 11\n",
       "10. 12\n",
       "11. 13\n",
       "\n",
       "\n"
      ],
      "text/plain": [
       " [1]  3  4  5  6  7  8  9 10 11 12 13"
      ]
     },
     "metadata": {},
     "output_type": "display_data"
    }
   ],
   "source": [
    "3:13"
   ]
  },
  {
   "cell_type": "markdown",
   "metadata": {},
   "source": [
    "R also has the seq function that allows you to enter a start and end number"
   ]
  },
  {
   "cell_type": "code",
   "execution_count": 93,
   "metadata": {},
   "outputs": [
    {
     "data": {
      "text/html": [
       "<style>\n",
       ".list-inline {list-style: none; margin:0; padding: 0}\n",
       ".list-inline>li {display: inline-block}\n",
       ".list-inline>li:not(:last-child)::after {content: \"\\00b7\"; padding: 0 .5ex}\n",
       "</style>\n",
       "<ol class=list-inline><li>3</li><li>4</li><li>5</li><li>6</li><li>7</li><li>8</li><li>9</li><li>10</li><li>11</li><li>12</li><li>13</li></ol>\n"
      ],
      "text/latex": [
       "\\begin{enumerate*}\n",
       "\\item 3\n",
       "\\item 4\n",
       "\\item 5\n",
       "\\item 6\n",
       "\\item 7\n",
       "\\item 8\n",
       "\\item 9\n",
       "\\item 10\n",
       "\\item 11\n",
       "\\item 12\n",
       "\\item 13\n",
       "\\end{enumerate*}\n"
      ],
      "text/markdown": [
       "1. 3\n",
       "2. 4\n",
       "3. 5\n",
       "4. 6\n",
       "5. 7\n",
       "6. 8\n",
       "7. 9\n",
       "8. 10\n",
       "9. 11\n",
       "10. 12\n",
       "11. 13\n",
       "\n",
       "\n"
      ],
      "text/plain": [
       " [1]  3  4  5  6  7  8  9 10 11 12 13"
      ]
     },
     "metadata": {},
     "output_type": "display_data"
    }
   ],
   "source": [
    "seq(3,13)"
   ]
  },
  {
   "cell_type": "markdown",
   "metadata": {},
   "source": [
    "as well as a third value, telling R what to increment by"
   ]
  },
  {
   "cell_type": "code",
   "execution_count": 94,
   "metadata": {},
   "outputs": [
    {
     "data": {
      "text/html": [
       "<style>\n",
       ".list-inline {list-style: none; margin:0; padding: 0}\n",
       ".list-inline>li {display: inline-block}\n",
       ".list-inline>li:not(:last-child)::after {content: \"\\00b7\"; padding: 0 .5ex}\n",
       "</style>\n",
       "<ol class=list-inline><li>3</li><li>5</li><li>7</li><li>9</li><li>11</li><li>13</li></ol>\n"
      ],
      "text/latex": [
       "\\begin{enumerate*}\n",
       "\\item 3\n",
       "\\item 5\n",
       "\\item 7\n",
       "\\item 9\n",
       "\\item 11\n",
       "\\item 13\n",
       "\\end{enumerate*}\n"
      ],
      "text/markdown": [
       "1. 3\n",
       "2. 5\n",
       "3. 7\n",
       "4. 9\n",
       "5. 11\n",
       "6. 13\n",
       "\n",
       "\n"
      ],
      "text/plain": [
       "[1]  3  5  7  9 11 13"
      ]
     },
     "metadata": {},
     "output_type": "display_data"
    }
   ],
   "source": [
    "seq(3,13,2)"
   ]
  },
  {
   "cell_type": "markdown",
   "metadata": {},
   "source": [
    "### Conditionals and flow control\n",
    "\n",
    "R has logic just as python does, allowing us to execute code if an expression evaluates to TRUE, else execute code when that expression evaluates to FALSE. TRUE and FALSE are special, reserved words in R? \n",
    "TRUE/FALSE when put inside an if/else statement in R, tells R which block of code to execute.\n",
    "\n",
    "To demonstrate how to use the if/else and if/else if/else syntax, let's first simulate one of two random variables. \n",
    "We will run 1000 simulations and for each simulation flip a coin.\n",
    "If the coin is heads the draw a sample from a $\\mathcal{N}\\left(1,1\\right)$ distribution and if the coin is tails then draw a sample from a $\\mathcal{N}\\left(-1,1\\right)$ distribution. \n",
    "To simulate a coin flip, we can simulate a bernoulli random variable, treating the value 1 as heads and the value 0 as tails. "
   ]
  },
  {
   "cell_type": "code",
   "execution_count": 14,
   "metadata": {},
   "outputs": [
    {
     "data": {
      "image/png": "[encoded data removed]",
      "text/plain": [
       "Plot with title “Histogram of samples”"
      ]
     },
     "metadata": {
      "image/png": {
       "height": 420,
       "width": 420
      }
     },
     "output_type": "display_data"
    }
   ],
   "source": [
    "samples = rep(0,10^3) # make an empty vector of 1,000 zeros that we will use to store our 1,000 random variable samples. \n",
    "for (i in 1:10^(3)){\n",
    "    coinflip = rbinom(n=1,p=0.5,size=1)\n",
    "    if (coinflip==1){\n",
    "        sample = rnorm(n=1,mean=2,sd=1) # rnorm generates a sample at random and according to the specified Normal dist.\n",
    "    }else{\n",
    "        sample = rnorm(n=1,mean=-2,sd=1)\n",
    "    }\n",
    "    samples[i]=sample\n",
    "}\n",
    "hist(samples) # This is how to build a histogram from a vector of values in R"
   ]
  },
  {
   "cell_type": "markdown",
   "metadata": {},
   "source": [
    "Let's modify the above code to add a third normal distirbution.\n",
    "We can draw a 0,1, or 2 from a binomial distribution. If the value we draw is 0 then we'll sample from $\\mathcal{N}\\left(-1,1\\right)$ distribution. If the value we draw is 1 then we'll sample from $\\mathcal{N}\\left(0,1\\right)$ distribution, and if 2 we draw from a  $\\mathcal{N}\\left(1,1\\right)$ distribution.  "
   ]
  },
  {
   "cell_type": "code",
   "execution_count": 23,
   "metadata": {},
   "outputs": [
    {
     "data": {
      "image/png": "[encoded data removed]",
      "text/plain": [
       "Plot with title “Histogram of samples”"
      ]
     },
     "metadata": {
      "image/png": {
       "height": 420,
       "width": 420
      }
     },
     "output_type": "display_data"
    }
   ],
   "source": [
    "samples = rep(0,10^3) # make an empty vector of 1,000 zeros that we will use to store our 1,000 random variable samples. \n",
    "for (i in 1:10^(3)){\n",
    "    threeOptions = rbinom(n=1,p=0.5,size=2)\n",
    "    if (threeOptions==0){\n",
    "        # rnorm generates a sample at random and according to the specified Normal dist.\n",
    "        sample = rnorm(n=1,mean=-1,sd=1) \n",
    "    }else if (threeOptions == 1){ #< ELSE if statement!\n",
    "        sample = rnorm(n=1,mean=0,sd=1)\n",
    "    }else{\n",
    "        sample = rnorm(n=1,mean=1,sd=1)\n",
    "    }\n",
    "    samples[i]=sample\n",
    "}\n",
    "hist(samples) # This is how to build a histogram from a vector of values in R"
   ]
  }
 ],
 "metadata": {
  "kernelspec": {
   "display_name": "R",
   "language": "R",
   "name": "ir"
  },
  "language_info": {
   "codemirror_mode": "r",
   "file_extension": ".r",
   "mimetype": "text/x-r-source",
   "name": "R",
   "pygments_lexer": "r",
   "version": "4.0.5"
  }
 },
 "nbformat": 4,
 "nbformat_minor": 4
}
