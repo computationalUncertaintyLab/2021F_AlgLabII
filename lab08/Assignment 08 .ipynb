{
 "cells": [
  {
   "cell_type": "markdown",
   "id": "c81e5c1f",
   "metadata": {},
   "source": [
    "# Assignment 08\n",
    "\n",
    "We have collected the number of community health centers in the 50 states, as well as the case fatality ratio for each state. "
   ]
  },
  {
   "cell_type": "code",
   "execution_count": 6,
   "id": "070cb144",
   "metadata": {},
   "outputs": [],
   "source": [
    "covid_data <- read.csv(\"joined_df.csv\")\n"
   ]
  },
  {
   "cell_type": "markdown",
   "id": "5dc430c8",
   "metadata": {},
   "source": [
    "# Q1"
   ]
  },
  {
   "cell_type": "markdown",
   "id": "1611979d",
   "metadata": {},
   "source": [
    "Plot the number of community health centers against the case fatality ratio."
   ]
  },
  {
   "cell_type": "markdown",
   "id": "1da71f6e",
   "metadata": {},
   "source": [
    "# Q2\n",
    "\n",
    "Run a linear regression of CFR ~ num community health centers"
   ]
  },
  {
   "cell_type": "markdown",
   "id": "0d0cab66",
   "metadata": {},
   "source": [
    "# Q3 \n",
    "\n",
    "Display the diagnostic plots."
   ]
  },
  {
   "cell_type": "markdown",
   "id": "8740bc08",
   "metadata": {},
   "source": [
    "# Q4\n",
    "\n",
    "Do you see any outliers? "
   ]
  },
  {
   "cell_type": "markdown",
   "id": "1af77a66",
   "metadata": {},
   "source": [
    "# Q5 \n",
    "\n",
    "Re-run the regression with the outlier removed, do the results change?"
   ]
  },
  {
   "cell_type": "code",
   "execution_count": null,
   "id": "e14a6dde",
   "metadata": {},
   "outputs": [],
   "source": []
  }
 ],
 "metadata": {
  "kernelspec": {
   "display_name": "R",
   "language": "R",
   "name": "ir"
  },
  "language_info": {
   "codemirror_mode": "r",
   "file_extension": ".r",
   "mimetype": "text/x-r-source",
   "name": "R",
   "pygments_lexer": "r",
   "version": "4.1.1"
  }
 },
 "nbformat": 4,
 "nbformat_minor": 5
}
