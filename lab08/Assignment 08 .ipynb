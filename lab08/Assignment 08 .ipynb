{
 "cells": [
  {
   "cell_type": "markdown",
   "id": "38b5c8e2",
   "metadata": {},
   "source": [
    "# Assignment 08\n",
    "\n",
    "We have collected the number of community health centers in the 50 states, as well as the case fatality ratio for each state. "
   ]
  },
  {
   "cell_type": "code",
   "execution_count": 6,
   "id": "95847bd2",
   "metadata": {},
   "outputs": [],
   "source": [
    "covid_data <- read.csv(\"joined_df.csv\")\n"
   ]
  },
  {
   "cell_type": "markdown",
   "id": "d1d5243d",
   "metadata": {},
   "source": [
    "# Q1"
   ]
  },
  {
   "cell_type": "markdown",
   "id": "822aa316",
   "metadata": {},
   "source": [
    "Plot the number of community health centers against the case fatality ratio."
   ]
  },
  {
   "cell_type": "markdown",
   "id": "e2679215",
   "metadata": {},
   "source": [
    "# Q2\n",
    "\n",
    "Run a linear regression of CFR ~ num community health centers"
   ]
  },
  {
   "cell_type": "markdown",
   "id": "d6b83512",
   "metadata": {},
   "source": [
    "# Q3 \n",
    "\n",
    "Display the diagnostic plots."
   ]
  },
  {
   "cell_type": "code",
   "execution_count": null,
   "id": "f2f3e5ac",
   "metadata": {},
   "outputs": [],
   "source": []
  }
 ],
 "metadata": {
  "kernelspec": {
   "display_name": "R",
   "language": "R",
   "name": "ir"
  },
  "language_info": {
   "codemirror_mode": "r",
   "file_extension": ".r",
   "mimetype": "text/x-r-source",
   "name": "R",
   "pygments_lexer": "r",
   "version": "4.1.1"
  }
 },
 "nbformat": 4,
 "nbformat_minor": 5
}
