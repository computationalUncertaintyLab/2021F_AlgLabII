{
 "cells": [
  {
   "cell_type": "markdown",
   "id": "2b396598",
   "metadata": {},
   "source": [
    "# Assignment 08 Part 2\n",
    "\n",
    "We have collected the number of community health centers in the 50 states, as well as the case fatality ratio for each state. \n",
    "\n"
   ]
  },
  {
   "cell_type": "code",
   "execution_count": null,
   "id": "bc9ac92b",
   "metadata": {},
   "outputs": [],
   "source": [
    "covid_data <- read.csv(\"joined_df.csv\")\n",
    "covid_data$Total.CHCs"
   ]
  },
  {
   "cell_type": "markdown",
   "id": "33dc4549",
   "metadata": {},
   "source": [
    "# Q1 Identify any outliers in the data using a fitted versus residuals plot. What states do these correspond to?"
   ]
  },
  {
   "cell_type": "markdown",
   "id": "350308f1",
   "metadata": {},
   "source": [
    "# Q2 Using a qqplot describe the distribution of the residuals"
   ]
  },
  {
   "cell_type": "markdown",
   "id": "4c743449",
   "metadata": {},
   "source": [
    "# Q3 Are there any observations with a Cooks distance > .05? "
   ]
  },
  {
   "cell_type": "markdown",
   "id": "bbf1c932",
   "metadata": {},
   "source": [
    "# Q4 If there are, re-run the regression without them."
   ]
  },
  {
   "cell_type": "code",
   "execution_count": null,
   "id": "86fda4ab",
   "metadata": {},
   "outputs": [],
   "source": []
  }
 ],
 "metadata": {
  "kernelspec": {
   "display_name": "R",
   "language": "R",
   "name": "ir"
  },
  "language_info": {
   "codemirror_mode": "r",
   "file_extension": ".r",
   "mimetype": "text/x-r-source",
   "name": "R",
   "pygments_lexer": "r",
   "version": "4.1.1"
  }
 },
 "nbformat": 4,
 "nbformat_minor": 5
}
