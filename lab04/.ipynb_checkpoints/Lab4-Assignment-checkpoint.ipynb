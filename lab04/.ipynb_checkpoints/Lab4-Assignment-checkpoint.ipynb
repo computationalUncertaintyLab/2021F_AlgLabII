{
 "cells": [
  {
   "cell_type": "markdown",
   "id": "d2bdec1a",
   "metadata": {},
   "source": [
    "# Lab 04 Assignment\n",
    "\n",
    "In this lab, you will develop your linear regression skills using a simulated data set only I know the true coefficients of. \n",
    "\n",
    "We again suppose our data was generated as, \n",
    "\n",
    "$$Y_i \\sim N(\\beta_0  +\\beta_1 X_i , \\sigma^2)$$"
   ]
  },
  {
   "cell_type": "markdown",
   "id": "92704b54",
   "metadata": {},
   "source": [
    "## Q1 \n",
    "\n",
    "Download the `data.csv` file, using the `read.csv` command.\n"
   ]
  },
  {
   "cell_type": "code",
   "execution_count": 4,
   "id": "40b31099",
   "metadata": {},
   "outputs": [
    {
     "ename": "ERROR",
     "evalue": "Error in read.table(file = file, header = header, sep = sep, quote = quote, : argument \"file\" is missing, with no default\n",
     "output_type": "error",
     "traceback": [
      "Error in read.table(file = file, header = header, sep = sep, quote = quote, : argument \"file\" is missing, with no default\nTraceback:\n",
      "1. read.csv(file = )",
      "2. read.table(file = file, header = header, sep = sep, quote = quote, \n .     dec = dec, fill = fill, comment.char = comment.char, ...)"
     ]
    }
   ],
   "source": [
    "read.csv(file = )# path to data"
   ]
  },
  {
   "cell_type": "markdown",
   "id": "e307ab57",
   "metadata": {},
   "source": [
    "## Q2 \n",
    "Fit a linear regression to estimate the coefficients, report the estimates for the intercept and slope."
   ]
  },
  {
   "cell_type": "code",
   "execution_count": null,
   "id": "286478b0",
   "metadata": {},
   "outputs": [],
   "source": [
    "lm( something ~ something)"
   ]
  },
  {
   "cell_type": "markdown",
   "id": "cb29f0bc",
   "metadata": {},
   "source": [
    "## Q3\n",
    "\n",
    "Write a predict function that takes a particular x value and returns a y."
   ]
  },
  {
   "cell_type": "code",
   "execution_count": 7,
   "id": "f308a4ef",
   "metadata": {},
   "outputs": [],
   "source": [
    "mypredict <- function(x){\n",
    "    y_hat =   # something involving x\n",
    "    return (y_hat)\n",
    "}"
   ]
  },
  {
   "cell_type": "markdown",
   "id": "0a80f559",
   "metadata": {},
   "source": [
    "## Q4\n",
    "\n",
    "Using your predict function, predict Yhat for the whole data set."
   ]
  },
  {
   "cell_type": "code",
   "execution_count": null,
   "id": "758dbd17",
   "metadata": {},
   "outputs": [],
   "source": [
    "y_hats # store your yhats\n",
    "for ( x in your dataset ){\n",
    "    y_hats <- c(y_hats, mypredict(x)) \n",
    "}"
   ]
  },
  {
   "cell_type": "markdown",
   "id": "86789033",
   "metadata": {},
   "source": [
    "## Q5\n",
    "\n",
    "Plot a histogram of the residuals."
   ]
  },
  {
   "cell_type": "markdown",
   "id": "b60069d6",
   "metadata": {},
   "source": [
    "## Q6\n",
    "Compute the mean and variance of the residuals."
   ]
  },
  {
   "cell_type": "code",
   "execution_count": null,
   "id": "cb1cb157",
   "metadata": {},
   "outputs": [],
   "source": []
  }
 ],
 "metadata": {
  "kernelspec": {
   "display_name": "R",
   "language": "R",
   "name": "ir"
  },
  "language_info": {
   "codemirror_mode": "r",
   "file_extension": ".r",
   "mimetype": "text/x-r-source",
   "name": "R",
   "pygments_lexer": "r",
   "version": "4.1.1"
  }
 },
 "nbformat": 4,
 "nbformat_minor": 5
}
