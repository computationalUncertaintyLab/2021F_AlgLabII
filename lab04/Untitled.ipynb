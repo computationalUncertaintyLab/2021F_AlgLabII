{
 "cells": [
  {
   "cell_type": "code",
   "execution_count": 1,
   "id": "8aab5a71",
   "metadata": {},
   "outputs": [],
   "source": [
    "x <- rpois(1000,10)"
   ]
  },
  {
   "cell_type": "code",
   "execution_count": 2,
   "id": "757f300f",
   "metadata": {},
   "outputs": [],
   "source": [
    "y <- 5 + 10*x"
   ]
  },
  {
   "cell_type": "code",
   "execution_count": 3,
   "id": "00fefce7",
   "metadata": {},
   "outputs": [],
   "source": [
    "data = data.frame(x=x,y=y)"
   ]
  },
  {
   "cell_type": "code",
   "execution_count": 4,
   "id": "7887c221",
   "metadata": {},
   "outputs": [],
   "source": [
    "write.csv(data,\"data.csv\")"
   ]
  },
  {
   "cell_type": "code",
   "execution_count": null,
   "id": "d091f100",
   "metadata": {},
   "outputs": [],
   "source": []
  }
 ],
 "metadata": {
  "kernelspec": {
   "display_name": "R",
   "language": "R",
   "name": "ir"
  },
  "language_info": {
   "codemirror_mode": "r",
   "file_extension": ".r",
   "mimetype": "text/x-r-source",
   "name": "R",
   "pygments_lexer": "r",
   "version": "4.1.1"
  }
 },
 "nbformat": 4,
 "nbformat_minor": 5
}
