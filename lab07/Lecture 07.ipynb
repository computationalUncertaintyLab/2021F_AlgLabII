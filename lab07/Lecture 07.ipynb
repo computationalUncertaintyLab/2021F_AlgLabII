{
 "cells": [
  {
   "cell_type": "markdown",
   "id": "1b76caa7",
   "metadata": {},
   "source": [
    "## Science"
   ]
  },
  {
   "cell_type": "markdown",
   "id": "44f5b101",
   "metadata": {},
   "source": [
    "Today we are going to do some real science! \n",
    "\n",
    "We are going to try to answer the question, is there a relationship between vaccination policy and cases?"
   ]
  },
  {
   "cell_type": "markdown",
   "id": "a9fcc158",
   "metadata": {},
   "source": [
    "We will use the following dataset.\n"
   ]
  },
  {
   "cell_type": "code",
   "execution_count": 2,
   "id": "997506ae",
   "metadata": {},
   "outputs": [],
   "source": [
    "oxford = read.csv(\"https://raw.githubusercontent.com/OxCGRT/covid-policy-tracker/master/data/OxCGRT_latest.csv\")"
   ]
  },
  {
   "cell_type": "code",
   "execution_count": null,
   "id": "ce8c603f",
   "metadata": {},
   "outputs": [],
   "source": []
  }
 ],
 "metadata": {
  "kernelspec": {
   "display_name": "R",
   "language": "R",
   "name": "ir"
  },
  "language_info": {
   "codemirror_mode": "r",
   "file_extension": ".r",
   "mimetype": "text/x-r-source",
   "name": "R",
   "pygments_lexer": "r",
   "version": "4.1.1"
  }
 },
 "nbformat": 4,
 "nbformat_minor": 5
}
