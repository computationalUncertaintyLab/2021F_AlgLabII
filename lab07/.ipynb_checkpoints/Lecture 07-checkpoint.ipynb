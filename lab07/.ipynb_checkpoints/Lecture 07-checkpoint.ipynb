{
 "cells": [
  {
   "cell_type": "markdown",
   "id": "dbfe30cd",
   "metadata": {},
   "source": [
    "## Science"
   ]
  },
  {
   "cell_type": "markdown",
   "id": "75259bdc",
   "metadata": {},
   "source": [
    "Today we are going to do some real science! \n",
    "\n",
    "We are going to try to answer the question, is there a relationship between vaccination policy and cases?"
   ]
  },
  {
   "cell_type": "markdown",
   "id": "be4c7239",
   "metadata": {},
   "source": [
    "We will use the following dataset.\n"
   ]
  },
  {
   "cell_type": "code",
   "execution_count": 1,
   "id": "c1f36087",
   "metadata": {},
   "outputs": [
    {
     "name": "stderr",
     "output_type": "stream",
     "text": [
      "Warning message in scan(file = file, what = what, sep = sep, quote = quote, dec = dec, :\n",
      "“EOF within quoted string”\n"
     ]
    }
   ],
   "source": [
    "oxford = read.csv(\"https://raw.githubusercontent.com/OxCGRT/covid-policy-tracker/master/data/OxCGRT_latest.csv\")"
   ]
  },
  {
   "cell_type": "code",
   "execution_count": null,
   "id": "6bed78c9",
   "metadata": {},
   "outputs": [],
   "source": []
  }
 ],
 "metadata": {
  "kernelspec": {
   "display_name": "R",
   "language": "R",
   "name": "ir"
  },
  "language_info": {
   "codemirror_mode": "r",
   "file_extension": ".r",
   "mimetype": "text/x-r-source",
   "name": "R",
   "pygments_lexer": "r",
   "version": "4.1.1"
  }
 },
 "nbformat": 4,
 "nbformat_minor": 5
}
