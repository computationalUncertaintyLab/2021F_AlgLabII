{
 "cells": [
  {
   "cell_type": "markdown",
   "id": "9458fec3",
   "metadata": {},
   "source": [
    "# Applied Regression Continued\n",
    "\n",
    "For this assignment we will be further investigating the NHANES dataset. \n"
   ]
  },
  {
   "cell_type": "markdown",
   "id": "5817f25d",
   "metadata": {},
   "source": [
    "# Q1\n",
    "\n",
    "Is there a statistically relationship between gender and diabetes?"
   ]
  },
  {
   "cell_type": "markdown",
   "id": "39428d70",
   "metadata": {},
   "source": [
    "# Q2\n",
    "\n",
    "Plot the sampling distribution of $\\hat{\\beta_1}$ for the relationship."
   ]
  },
  {
   "cell_type": "markdown",
   "id": "143059fb",
   "metadata": {},
   "source": [
    "# Q3\n",
    "\n",
    "Is there a relationship between gender and diabetes controlling for age?"
   ]
  },
  {
   "cell_type": "markdown",
   "id": "ed319ea2",
   "metadata": {},
   "source": [
    "# Q4\n",
    "\n",
    "Plot the sampling distribution of $\\hat{\\beta_1}$ and $\\hat{\\beta_2}$ for the relationship."
   ]
  },
  {
   "cell_type": "code",
   "execution_count": null,
   "id": "dc300c65",
   "metadata": {},
   "outputs": [],
   "source": []
  }
 ],
 "metadata": {
  "kernelspec": {
   "display_name": "R",
   "language": "R",
   "name": "ir"
  },
  "language_info": {
   "codemirror_mode": "r",
   "file_extension": ".r",
   "mimetype": "text/x-r-source",
   "name": "R",
   "pygments_lexer": "r",
   "version": "4.1.1"
  }
 },
 "nbformat": 4,
 "nbformat_minor": 5
}
