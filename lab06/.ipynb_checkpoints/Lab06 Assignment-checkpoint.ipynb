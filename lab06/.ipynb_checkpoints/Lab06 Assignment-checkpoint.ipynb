{
 "cells": [
  {
   "cell_type": "markdown",
   "id": "39bd53eb",
   "metadata": {},
   "source": [
    "# Applied Regression\n",
    "\n",
    "For this assignment we will be investigating the NHANES dataset, a huge repository of survey data about health outcomes and bevhaiors.  \n",
    "\n",
    "https://cran.r-project.org/web/packages/NHANES/NHANES.pdf\n",
    "\n"
   ]
  },
  {
   "cell_type": "markdown",
   "id": "5dd3e226",
   "metadata": {},
   "source": [
    "## Q1 Install the NHANES package"
   ]
  },
  {
   "cell_type": "code",
   "execution_count": 3,
   "id": "bef9dd65",
   "metadata": {},
   "outputs": [
    {
     "name": "stderr",
     "output_type": "stream",
     "text": [
      "Installing package into ‘/opt/homebrew/lib/R/4.1/site-library’\n",
      "(as ‘lib’ is unspecified)\n",
      "\n"
     ]
    }
   ],
   "source": [
    "install.packages(\"NHANES\")"
   ]
  },
  {
   "cell_type": "markdown",
   "id": "c198275b",
   "metadata": {},
   "source": [
    "## Read in the dataset "
   ]
  },
  {
   "cell_type": "code",
   "execution_count": 4,
   "id": "c8ed6735",
   "metadata": {},
   "outputs": [],
   "source": [
    "library(NHANES)"
   ]
  },
  {
   "cell_type": "markdown",
   "id": "b42e8eb3",
   "metadata": {},
   "source": [
    "## Q1 How many columns does NHANES have?"
   ]
  },
  {
   "cell_type": "markdown",
   "id": "bdf52de9",
   "metadata": {},
   "source": [
    "## Q2 Plot a histogram of the BMI variable from the NHANES data set. How many patients do we have?"
   ]
  },
  {
   "cell_type": "markdown",
   "id": "8d3d66f3",
   "metadata": {},
   "source": [
    "## Q3 What is the average, max and min of the BMI variable?"
   ]
  },
  {
   "cell_type": "markdown",
   "id": "77c39452",
   "metadata": {},
   "source": [
    "## Q4 Is poverty related to BMI?"
   ]
  },
  {
   "cell_type": "markdown",
   "id": "0fe03e0f",
   "metadata": {},
   "source": [
    "## Q5 Is poverty related to BMI controlling for age?"
   ]
  },
  {
   "cell_type": "markdown",
   "id": "6f36f771",
   "metadata": {},
   "source": [
    "## Q6 Is poverty related to education? \n"
   ]
  }
 ],
 "metadata": {
  "kernelspec": {
   "display_name": "R",
   "language": "R",
   "name": "ir"
  },
  "language_info": {
   "codemirror_mode": "r",
   "file_extension": ".r",
   "mimetype": "text/x-r-source",
   "name": "R",
   "pygments_lexer": "r",
   "version": "4.1.1"
  }
 },
 "nbformat": 4,
 "nbformat_minor": 5
}
