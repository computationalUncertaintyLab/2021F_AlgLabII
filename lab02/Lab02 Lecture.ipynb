{
 "cells": [
  {
   "cell_type": "markdown",
   "id": "f2677070",
   "metadata": {},
   "source": [
    "# Function Review\n",
    "\n",
    "Functions are abstract tools that allow us to simplify repeated tasks. They are equivalent to the mathematical idea of a function. \n",
    "\n",
    "Instead of writing out all possible squares (2^2=4,3^3=9...), we use the abstract notation \n",
    "\n",
    "f(x) = x^2\n",
    "\n",
    "\n",
    "We can then plugin values of x to compute outputs of x^2."
   ]
  },
  {
   "cell_type": "markdown",
   "id": "c1572d43",
   "metadata": {},
   "source": [
    "#### Checkpoint: Write a function that takes a number and returns the square of it. \n"
   ]
  },
  {
   "cell_type": "markdown",
   "id": "65569410",
   "metadata": {},
   "source": [
    "Functions can take multiple arguments (as many as you want). Just like in math we can have functions of many arguments. \n",
    "\n",
    "f(x,y,z) = x + y + z"
   ]
  },
  {
   "cell_type": "markdown",
   "id": "5e9ce7ef",
   "metadata": {},
   "source": [
    "#### Chekpoint: Write a function that takes three numbers and returns the product of all them. "
   ]
  },
  {
   "cell_type": "markdown",
   "id": "48a2f5aa",
   "metadata": {},
   "source": [
    "Functions can house any logic we are interested in in the \"body\" of the function.\n",
    "\n",
    "\n",
    "function(args) {\n",
    "     \n",
    "     \"body\"\n",
    "    \n",
    "}\n",
    "\n",
    "\n",
    "The body can incorporate if /else statements, for loops, or any code we are interested in. "
   ]
  },
  {
   "cell_type": "markdown",
   "id": "27a742f1",
   "metadata": {},
   "source": [
    "#### Chekpoint: Write a function that takes a variable and prints \"heads\" if the variable is 1 and \"tails\" if the variable is 0"
   ]
  },
  {
   "cell_type": "markdown",
   "id": "09fd93b5",
   "metadata": {},
   "source": [
    "#### Chekpoint: Extend your function to simulate a coin flip and print out heads or tails"
   ]
  },
  {
   "cell_type": "markdown",
   "id": "64cbc72d",
   "metadata": {},
   "source": [
    "Warning: Functions can be named anything, including pre-defined functions. "
   ]
  },
  {
   "cell_type": "markdown",
   "id": "2d23825b",
   "metadata": {},
   "source": [
    "#### Chekpoint: Over-write the sum function to print out the word \"oops\"\n"
   ]
  },
  {
   "cell_type": "markdown",
   "id": "8d1c5715",
   "metadata": {},
   "source": [
    "Functions can also do multiple things in the body. \n",
    "\n",
    "\n",
    "function(args) {\n",
    "    \n",
    "    do thing one \n",
    "    do thing two \n",
    "    do thing three\n",
    "    \n",
    "}"
   ]
  },
  {
   "cell_type": "markdown",
   "id": "9f7b0eef",
   "metadata": {},
   "source": [
    "#### Chekpoint: Write a function that prints x , prints x+1 and prints x^2 and returns all three in a vector"
   ]
  },
  {
   "cell_type": "markdown",
   "id": "f585e9d8",
   "metadata": {},
   "source": [
    "# While Loop\n",
    "\n",
    "To introduce the for loop we will first work with the while loop. \n",
    "\n",
    "while (True):\n",
    "\n",
    "   do something\n",
    "   \n",
    "   \n",
    "This construction allows us to continue iterating until a condition is met. \n",
    "\n",
    "We most commonly use this in the following pattern. \n",
    "\n",
    "\n",
    "stop = False\n",
    "\n",
    "while (!stop){\n",
    "\n",
    "    if ( 1 == 1){\n",
    "       stop = True\n",
    "    }\n",
    "    \n",
    "}"
   ]
  },
  {
   "cell_type": "markdown",
   "id": "a485ba47",
   "metadata": {},
   "source": [
    "#### Chekpoint: Write a function that prints x , prints x+1 and prints x^2 and returns all three in a vector"
   ]
  },
  {
   "cell_type": "markdown",
   "id": "3317c78a",
   "metadata": {},
   "source": [
    "# For loop review"
   ]
  },
  {
   "cell_type": "markdown",
   "id": "69c31e74",
   "metadata": {},
   "source": [
    "A for loop is a particular type of function that iterates over a sequence of variable values. The construction \n",
    "\n",
    "\n",
    "for (i in 1:100){\n",
    "\n",
    "   do something with i\n",
    " \n",
    "}\n",
    "\n",
    "this code will first execute with i=1, then i=2...\n",
    "\n"
   ]
  },
  {
   "cell_type": "markdown",
   "id": "de80bccc",
   "metadata": {},
   "source": [
    "#### Chekpoint: Write a chunk of code that prints the numbers 1 through 10 without using a for loop\n"
   ]
  },
  {
   "cell_type": "markdown",
   "id": "803c6b8b",
   "metadata": {},
   "source": [
    "#### Checkpoint: Instead of manually printing out the numbers 1 through 10, use a for loop to do this in one chunk."
   ]
  },
  {
   "cell_type": "markdown",
   "id": "a5075c76",
   "metadata": {},
   "source": [
    "We primarly use for loops to model recurrence relations, or functions that depend on previous values. For instance, \n",
    "\n",
    "\n",
    "f(x) = f(x-1) \n",
    "f(1) = 5\n",
    "\n",
    "\n",
    "What will this function return?\n",
    "\n",
    "\n"
   ]
  },
  {
   "cell_type": "markdown",
   "id": "6ce1144d",
   "metadata": {},
   "source": [
    "#### Checkpoint: Write a function to sum the first 10 numbers\n"
   ]
  },
  {
   "cell_type": "markdown",
   "id": "de3fdf8a",
   "metadata": {},
   "source": [
    "We can also use for loops to iterate over an array. The basic pattern for this is \n",
    "\n",
    "\n",
    "array = c(0,0,0,0)\n",
    "\n",
    "for (i in 1:length(array)){\n",
    "\n",
    "     array[i] = 2\n",
    "}\n",
    "\n",
    "\n",
    "What will array look like after this?"
   ]
  },
  {
   "cell_type": "markdown",
   "id": "c704f031",
   "metadata": {},
   "source": [
    "#### Checkpoint: Write a function to populate an array of the numbers 1:10"
   ]
  },
  {
   "cell_type": "markdown",
   "id": "efcc79c2",
   "metadata": {},
   "source": [
    "#### Checkpoint: Write a function to sum the numbers 1:10 by populating an array\n"
   ]
  },
  {
   "cell_type": "code",
   "execution_count": null,
   "id": "bac60e23",
   "metadata": {},
   "outputs": [],
   "source": []
  }
 ],
 "metadata": {
  "kernelspec": {
   "display_name": "R",
   "language": "R",
   "name": "ir"
  },
  "language_info": {
   "codemirror_mode": "r",
   "file_extension": ".r",
   "mimetype": "text/x-r-source",
   "name": "R",
   "pygments_lexer": "r",
   "version": "4.1.1"
  }
 },
 "nbformat": 4,
 "nbformat_minor": 5
}
