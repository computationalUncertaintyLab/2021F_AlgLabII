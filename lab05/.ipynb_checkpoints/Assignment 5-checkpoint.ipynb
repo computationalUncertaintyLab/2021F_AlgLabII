{
 "cells": [
  {
   "cell_type": "markdown",
   "id": "df741865",
   "metadata": {},
   "source": [
    "# Lab 04 Assignment\n",
    "\n",
    "In this lab, you will continue developing your linear regression skills using a simulated data set only I know the true coefficients of. \n",
    "\n",
    "We again suppose our data was generated as, \n",
    "\n",
    "$$Y_i \\sim N(\\beta_0  +\\beta_1 X_i , \\sigma^2)$$"
   ]
  },
  {
   "cell_type": "markdown",
   "id": "28a45293",
   "metadata": {},
   "source": [
    "# Q1  "
   ]
  },
  {
   "cell_type": "markdown",
   "id": "8f054e16",
   "metadata": {},
   "source": [
    "Estimate $\\hat{\\sigma}^2$ for the data set `data2.csv`."
   ]
  },
  {
   "cell_type": "markdown",
   "id": "29aff62b",
   "metadata": {},
   "source": [
    "# Q2"
   ]
  },
  {
   "cell_type": "markdown",
   "id": "4efed87d",
   "metadata": {},
   "source": [
    "Estimate $\\hat{\\beta}$ for the data set `data2.csv`. What does this say about the effects of the drug on survival time?"
   ]
  },
  {
   "cell_type": "markdown",
   "id": "a24fb86a",
   "metadata": {},
   "source": [
    "# Q3"
   ]
  },
  {
   "cell_type": "markdown",
   "id": "c3537f9b",
   "metadata": {},
   "source": [
    "What is the number of days someone is expected to survive without any drug? What about with 100 mg of the drug?"
   ]
  },
  {
   "cell_type": "markdown",
   "id": "18727fea",
   "metadata": {},
   "source": [
    "# Q4"
   ]
  },
  {
   "cell_type": "markdown",
   "id": "f9b5236e",
   "metadata": {},
   "source": [
    "Describe the distribution of the residuals? Where is it centered? Are there any outliers?"
   ]
  },
  {
   "cell_type": "markdown",
   "id": "a5ba274c",
   "metadata": {},
   "source": [
    "# Q5"
   ]
  },
  {
   "cell_type": "markdown",
   "id": "9bc87c09",
   "metadata": {},
   "source": []
  }
 ],
 "metadata": {
  "kernelspec": {
   "display_name": "R",
   "language": "R",
   "name": "ir"
  },
  "language_info": {
   "codemirror_mode": "r",
   "file_extension": ".r",
   "mimetype": "text/x-r-source",
   "name": "R",
   "pygments_lexer": "r",
   "version": "4.1.1"
  }
 },
 "nbformat": 4,
 "nbformat_minor": 5
}
